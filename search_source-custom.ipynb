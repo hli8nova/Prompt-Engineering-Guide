{
 "cells": [
  {
   "cell_type": "code",
   "execution_count": 1,
   "id": "97c901ff-a475-459f-8e84-959caa2a336b",
   "metadata": {
    "tags": []
   },
   "outputs": [
    {
     "name": "stdout",
     "output_type": "stream",
     "text": [
      "Requirement already satisfied: langchain in /home/will/miniconda3/envs/pyopenai/lib/python3.8/site-packages (0.0.201)\n",
      "Requirement already satisfied: deeplake in /home/will/miniconda3/envs/pyopenai/lib/python3.8/site-packages (3.6.3)\n",
      "Requirement already satisfied: openai in /home/will/miniconda3/envs/pyopenai/lib/python3.8/site-packages (0.27.8)\n",
      "Requirement already satisfied: tiktoken in /home/will/miniconda3/envs/pyopenai/lib/python3.8/site-packages (0.4.0)\n",
      "Requirement already satisfied: requests<3,>=2 in /home/will/miniconda3/envs/pyopenai/lib/python3.8/site-packages (from langchain) (2.30.0)\n",
      "Requirement already satisfied: tenacity<9.0.0,>=8.1.0 in /home/will/miniconda3/envs/pyopenai/lib/python3.8/site-packages (from langchain) (8.2.2)\n",
      "Requirement already satisfied: aiohttp<4.0.0,>=3.8.3 in /home/will/miniconda3/envs/pyopenai/lib/python3.8/site-packages (from langchain) (3.8.4)\n",
      "Requirement already satisfied: dataclasses-json<0.6.0,>=0.5.7 in /home/will/miniconda3/envs/pyopenai/lib/python3.8/site-packages (from langchain) (0.5.7)\n",
      "Requirement already satisfied: openapi-schema-pydantic<2.0,>=1.2 in /home/will/miniconda3/envs/pyopenai/lib/python3.8/site-packages (from langchain) (1.2.4)\n",
      "Requirement already satisfied: async-timeout<5.0.0,>=4.0.0 in /home/will/miniconda3/envs/pyopenai/lib/python3.8/site-packages (from langchain) (4.0.2)\n",
      "Requirement already satisfied: PyYAML>=5.4.1 in /home/will/miniconda3/envs/pyopenai/lib/python3.8/site-packages (from langchain) (6.0)\n",
      "Requirement already satisfied: langchainplus-sdk>=0.0.9 in /home/will/miniconda3/envs/pyopenai/lib/python3.8/site-packages (from langchain) (0.0.10)\n",
      "Requirement already satisfied: numpy<2,>=1 in /home/will/miniconda3/envs/pyopenai/lib/python3.8/site-packages (from langchain) (1.22.3)\n",
      "Requirement already satisfied: pydantic<2,>=1 in /home/will/miniconda3/envs/pyopenai/lib/python3.8/site-packages (from langchain) (1.10.7)\n",
      "Requirement already satisfied: SQLAlchemy<3,>=1.4 in /home/will/miniconda3/envs/pyopenai/lib/python3.8/site-packages (from langchain) (2.0.13)\n",
      "Requirement already satisfied: numexpr<3.0.0,>=2.8.4 in /home/will/miniconda3/envs/pyopenai/lib/python3.8/site-packages (from langchain) (2.8.4)\n",
      "Requirement already satisfied: humbug>=0.3.1 in /home/will/miniconda3/envs/pyopenai/lib/python3.8/site-packages (from deeplake) (0.3.1)\n",
      "Requirement already satisfied: click in /home/will/miniconda3/envs/pyopenai/lib/python3.8/site-packages (from deeplake) (8.1.3)\n",
      "Requirement already satisfied: tqdm in /home/will/miniconda3/envs/pyopenai/lib/python3.8/site-packages (from deeplake) (4.65.0)\n",
      "Requirement already satisfied: pyjwt in /home/will/miniconda3/envs/pyopenai/lib/python3.8/site-packages (from deeplake) (2.7.0)\n",
      "Requirement already satisfied: pillow in /home/will/miniconda3/envs/pyopenai/lib/python3.8/site-packages (from deeplake) (9.0.0)\n",
      "Requirement already satisfied: boto3 in /home/will/miniconda3/envs/pyopenai/lib/python3.8/site-packages (from deeplake) (1.26.76)\n",
      "Requirement already satisfied: nest-asyncio in /home/will/miniconda3/envs/pyopenai/lib/python3.8/site-packages (from deeplake) (1.5.1)\n",
      "Requirement already satisfied: pathos in /home/will/miniconda3/envs/pyopenai/lib/python3.8/site-packages (from deeplake) (0.3.0)\n",
      "Requirement already satisfied: numcodecs in /home/will/miniconda3/envs/pyopenai/lib/python3.8/site-packages (from deeplake) (0.11.0)\n",
      "Requirement already satisfied: aioboto3>=10.4.0 in /home/will/miniconda3/envs/pyopenai/lib/python3.8/site-packages (from deeplake) (11.2.0)\n",
      "Requirement already satisfied: regex>=2022.1.18 in /home/will/miniconda3/envs/pyopenai/lib/python3.8/site-packages (from tiktoken) (2023.5.5)\n",
      "Requirement already satisfied: aiobotocore[boto3]==2.5.0 in /home/will/miniconda3/envs/pyopenai/lib/python3.8/site-packages (from aioboto3>=10.4.0->deeplake) (2.5.0)\n",
      "Requirement already satisfied: aioitertools>=0.5.1 in /home/will/miniconda3/envs/pyopenai/lib/python3.8/site-packages (from aiobotocore[boto3]==2.5.0->aioboto3>=10.4.0->deeplake) (0.11.0)\n",
      "Requirement already satisfied: botocore<1.29.77,>=1.29.76 in /home/will/miniconda3/envs/pyopenai/lib/python3.8/site-packages (from aiobotocore[boto3]==2.5.0->aioboto3>=10.4.0->deeplake) (1.29.76)\n",
      "Requirement already satisfied: wrapt>=1.10.10 in /home/will/miniconda3/envs/pyopenai/lib/python3.8/site-packages (from aiobotocore[boto3]==2.5.0->aioboto3>=10.4.0->deeplake) (1.14.1)\n",
      "Requirement already satisfied: charset-normalizer<4.0,>=2.0 in /home/will/miniconda3/envs/pyopenai/lib/python3.8/site-packages (from aiohttp<4.0.0,>=3.8.3->langchain) (2.0.4)\n",
      "Requirement already satisfied: attrs>=17.3.0 in /home/will/miniconda3/envs/pyopenai/lib/python3.8/site-packages (from aiohttp<4.0.0,>=3.8.3->langchain) (21.4.0)\n",
      "Requirement already satisfied: yarl<2.0,>=1.0 in /home/will/miniconda3/envs/pyopenai/lib/python3.8/site-packages (from aiohttp<4.0.0,>=3.8.3->langchain) (1.9.2)\n",
      "Requirement already satisfied: aiosignal>=1.1.2 in /home/will/miniconda3/envs/pyopenai/lib/python3.8/site-packages (from aiohttp<4.0.0,>=3.8.3->langchain) (1.3.1)\n",
      "Requirement already satisfied: frozenlist>=1.1.1 in /home/will/miniconda3/envs/pyopenai/lib/python3.8/site-packages (from aiohttp<4.0.0,>=3.8.3->langchain) (1.3.3)\n",
      "Requirement already satisfied: multidict<7.0,>=4.5 in /home/will/miniconda3/envs/pyopenai/lib/python3.8/site-packages (from aiohttp<4.0.0,>=3.8.3->langchain) (6.0.4)\n",
      "Requirement already satisfied: typing_extensions>=4.0 in /home/will/miniconda3/envs/pyopenai/lib/python3.8/site-packages (from aioitertools>=0.5.1->aiobotocore[boto3]==2.5.0->aioboto3>=10.4.0->deeplake) (4.5.0)\n",
      "Requirement already satisfied: s3transfer<0.7.0,>=0.6.0 in /home/will/miniconda3/envs/pyopenai/lib/python3.8/site-packages (from boto3->deeplake) (0.6.1)\n",
      "Requirement already satisfied: jmespath<2.0.0,>=0.7.1 in /home/will/miniconda3/envs/pyopenai/lib/python3.8/site-packages (from boto3->deeplake) (1.0.1)\n",
      "Requirement already satisfied: urllib3<1.27,>=1.25.4 in /home/will/miniconda3/envs/pyopenai/lib/python3.8/site-packages (from botocore<1.29.77,>=1.29.76->aiobotocore[boto3]==2.5.0->aioboto3>=10.4.0->deeplake) (1.26.8)\n",
      "Requirement already satisfied: python-dateutil<3.0.0,>=2.1 in /home/will/miniconda3/envs/pyopenai/lib/python3.8/site-packages (from botocore<1.29.77,>=1.29.76->aiobotocore[boto3]==2.5.0->aioboto3>=10.4.0->deeplake) (2.8.2)\n",
      "Requirement already satisfied: marshmallow-enum<2.0.0,>=1.5.1 in /home/will/miniconda3/envs/pyopenai/lib/python3.8/site-packages (from dataclasses-json<0.6.0,>=0.5.7->langchain) (1.5.1)\n",
      "Requirement already satisfied: typing-inspect>=0.4.0 in /home/will/miniconda3/envs/pyopenai/lib/python3.8/site-packages (from dataclasses-json<0.6.0,>=0.5.7->langchain) (0.8.0)\n",
      "Requirement already satisfied: marshmallow<4.0.0,>=3.3.0 in /home/will/miniconda3/envs/pyopenai/lib/python3.8/site-packages (from dataclasses-json<0.6.0,>=0.5.7->langchain) (3.19.0)\n",
      "Requirement already satisfied: packaging>=17.0 in /home/will/miniconda3/envs/pyopenai/lib/python3.8/site-packages (from marshmallow<4.0.0,>=3.3.0->dataclasses-json<0.6.0,>=0.5.7->langchain) (23.1)\n",
      "Requirement already satisfied: six>=1.5 in /home/will/miniconda3/envs/pyopenai/lib/python3.8/site-packages (from python-dateutil<3.0.0,>=2.1->botocore<1.29.77,>=1.29.76->aiobotocore[boto3]==2.5.0->aioboto3>=10.4.0->deeplake) (1.16.0)\n",
      "Requirement already satisfied: certifi>=2017.4.17 in /home/will/miniconda3/envs/pyopenai/lib/python3.8/site-packages (from requests<3,>=2->langchain) (2023.5.7)\n",
      "Requirement already satisfied: idna<4,>=2.5 in /home/will/miniconda3/envs/pyopenai/lib/python3.8/site-packages (from requests<3,>=2->langchain) (3.3)\n",
      "Requirement already satisfied: greenlet!=0.4.17 in /home/will/miniconda3/envs/pyopenai/lib/python3.8/site-packages (from SQLAlchemy<3,>=1.4->langchain) (2.0.2)\n",
      "Requirement already satisfied: mypy-extensions>=0.3.0 in /home/will/miniconda3/envs/pyopenai/lib/python3.8/site-packages (from typing-inspect>=0.4.0->dataclasses-json<0.6.0,>=0.5.7->langchain) (1.0.0)\n",
      "Requirement already satisfied: entrypoints in /home/will/miniconda3/envs/pyopenai/lib/python3.8/site-packages (from numcodecs->deeplake) (0.3)\n",
      "Requirement already satisfied: pox>=0.3.2 in /home/will/miniconda3/envs/pyopenai/lib/python3.8/site-packages (from pathos->deeplake) (0.3.2)\n",
      "Requirement already satisfied: ppft>=1.7.6.6 in /home/will/miniconda3/envs/pyopenai/lib/python3.8/site-packages (from pathos->deeplake) (1.7.6.6)\n",
      "Requirement already satisfied: dill>=0.3.6 in /home/will/miniconda3/envs/pyopenai/lib/python3.8/site-packages (from pathos->deeplake) (0.3.6)\n",
      "Requirement already satisfied: multiprocess>=0.70.14 in /home/will/miniconda3/envs/pyopenai/lib/python3.8/site-packages (from pathos->deeplake) (0.70.14)\n"
     ]
    }
   ],
   "source": [
    "!python3 -m pip install --upgrade langchain deeplake openai tiktoken"
   ]
  },
  {
   "cell_type": "code",
   "execution_count": 2,
   "id": "1a725fe1-842e-407e-ac34-f6fafa06577d",
   "metadata": {},
   "outputs": [],
   "source": [
    "import os\n",
    "# os.environ[\"OPENAI_API_KEY\"] = \"...\""
   ]
  },
  {
   "cell_type": "code",
   "execution_count": 3,
   "id": "92669e46-9682-4d0e-a33a-13f49b9d3dc1",
   "metadata": {},
   "outputs": [],
   "source": [
    "from langchain.embeddings.openai import OpenAIEmbeddings\n",
    "from langchain.embeddings.cohere import CohereEmbeddings\n",
    "from langchain.text_splitter import CharacterTextSplitter\n",
    "from langchain.vectorstores.elastic_vector_search import ElasticVectorSearch\n",
    "from langchain.vectorstores import Chroma\n",
    "from langchain.docstore.document import Document\n",
    "from langchain.prompts import PromptTemplate"
   ]
  },
  {
   "cell_type": "code",
   "execution_count": 4,
   "id": "654ae5ae-7b4c-499b-9581-ffeb10703352",
   "metadata": {},
   "outputs": [
    {
     "name": "stdout",
     "output_type": "stream",
     "text": [
      "False\n"
     ]
    }
   ],
   "source": [
    "import openai\n",
    "import os\n",
    "import IPython\n",
    "from dotenv import load_dotenv\n",
    "load_dotenv()\n",
    "openai.api_key = os.getenv(\"OPENAI_API_KEY\")\n",
    "print(openai.api_key == None)\n"
   ]
  },
  {
   "cell_type": "code",
   "execution_count": 6,
   "id": "533857b9-2626-448d-aa46-e9ee35287730",
   "metadata": {},
   "outputs": [
    {
     "name": "stdout",
     "output_type": "stream",
     "text": [
      "/srv/nfs4/data/openai/Prompt-Engineering-Guide\n"
     ]
    }
   ],
   "source": [
    "!pwd"
   ]
  },
  {
   "cell_type": "code",
   "execution_count": 5,
   "id": "b47aa9d7-e0b0-4329-ba05-36eabc399395",
   "metadata": {},
   "outputs": [
    {
     "data": {
      "text/plain": [
       "'./docs/dell_eula2023.txt'"
      ]
     },
     "execution_count": 5,
     "metadata": {},
     "output_type": "execute_result"
    }
   ],
   "source": [
    "my_contract = \"./docs/dell_eula2023.txt\"\n",
    "my_contract"
   ]
  },
  {
   "cell_type": "code",
   "execution_count": 8,
   "id": "1859fa09-12c7-4d7a-b8dc-cfb86ea2efca",
   "metadata": {},
   "outputs": [
    {
     "name": "stderr",
     "output_type": "stream",
     "text": [
      "Created a chunk of size 1092, which is longer than the specified 1000\n",
      "Created a chunk of size 1154, which is longer than the specified 1000\n",
      "Created a chunk of size 1045, which is longer than the specified 1000\n",
      "Created a chunk of size 1684, which is longer than the specified 1000\n",
      "Created a chunk of size 3121, which is longer than the specified 1000\n",
      "Created a chunk of size 1016, which is longer than the specified 1000\n",
      "Created a chunk of size 1265, which is longer than the specified 1000\n",
      "Created a chunk of size 1123, which is longer than the specified 1000\n",
      "Created a chunk of size 2861, which is longer than the specified 1000\n"
     ]
    }
   ],
   "source": [
    "with open(my_contract) as f:\n",
    "    state_of_the_union = f.read()\n",
    "text_splitter = CharacterTextSplitter(chunk_size=1000, chunk_overlap=100)\n",
    "texts = text_splitter.split_text(state_of_the_union)\n",
    "\n",
    "embeddings = OpenAIEmbeddings()"
   ]
  },
  {
   "cell_type": "code",
   "execution_count": 9,
   "id": "c70010dc-93a8-43da-a3ce-7340e5bbd086",
   "metadata": {},
   "outputs": [
    {
     "name": "stderr",
     "output_type": "stream",
     "text": [
      "Using embedded DuckDB without persistence: data will be transient\n"
     ]
    }
   ],
   "source": [
    "docsearch = Chroma.from_texts(texts, embeddings, metadatas=[{\"source\": str(i)} for i in range(len(texts))])\n",
    "# docs = docsearch.similarity_search(query)"
   ]
  },
  {
   "cell_type": "markdown",
   "id": "6d50fa2f-2e6d-4ddb-9941-51b0a802d29b",
   "metadata": {
    "tags": []
   },
   "source": [
    "Running Chroma using direct local API.\n",
    "Using DuckDB in-memory for database. Data will be transient."
   ]
  },
  {
   "cell_type": "code",
   "execution_count": 10,
   "id": "25dbcb99-ec9c-4c8d-87fd-e38b7dac1f95",
   "metadata": {},
   "outputs": [],
   "source": [
    "from langchain.chains.qa_with_sources import load_qa_with_sources_chain\n",
    "from langchain.llms import OpenAI"
   ]
  },
  {
   "cell_type": "code",
   "execution_count": 11,
   "id": "5fd78e24-cdf8-4bdb-bdc9-6bcaac076542",
   "metadata": {},
   "outputs": [],
   "source": [
    "template_CHINESE = \"\"\"Given the following extracted parts of a long document and a question, create a final answer with references (\"SOURCES\"). \n",
    "If you don't know the answer, just say that Custom-ChatGPT does not know. Don't try to make up an answer.\n",
    "ALWAYS return a \"SOURCES\" part in your answer.\n",
    "Respond in CHINESE.\n",
    "\n",
    "QUESTION: {question}\n",
    "=========\n",
    "{summaries}\n",
    "=========\n",
    "FINAL ANSWER IN CHINESE:\"\"\""
   ]
  },
  {
   "cell_type": "code",
   "execution_count": 12,
   "id": "5537da99-75ef-4f62-aa62-cfc733355687",
   "metadata": {},
   "outputs": [],
   "source": [
    "template_ENGLISH = \"\"\"Given the following extracted parts of a long document and a question, create a final answer with references (\"SOURCES\"). \n",
    "If you don't know the answer, just say that Custom-ChatGPT does not know. Don't try to make up an answer.\n",
    "ALWAYS return a \"SOURCES\" part in your answer.\n",
    "Respond in ENGLISH.\n",
    "\n",
    "QUESTION: {question}\n",
    "=========\n",
    "{summaries}\n",
    "=========\n",
    "FINAL ANSWER IN ENGLISH:\"\"\""
   ]
  },
  {
   "cell_type": "raw",
   "id": "67039373-e725-4674-91c8-243a3a557c21",
   "metadata": {},
   "source": []
  },
  {
   "cell_type": "code",
   "execution_count": 15,
   "id": "cb25f535-1e1f-4c1c-bd7f-7e17e5b195fa",
   "metadata": {},
   "outputs": [
    {
     "data": {
      "text/plain": [
       "{'output_text': \"\\nI got the lease from the Sample Lease or Rental Agreement provided by Penn State Altoona's Office of Off-Campus Living. It includes the signatures of the landlord and tenant, the property address, the duration of the lease, the monthly rent amount, the utilities and services provided, the deposit amount, the Inventory Move-In Checklist, and the agreement of the parties. \\n\\nSOURCES: \\n1. Sample Lease or Rental Agreement from https://altoona.psu.edu/offices-divisions/student-affairs/off-campus-living/sample-lease-rental-agreement\\n2. Signatures and printed names of landlord and tenant (Source 3)\"}"
      ]
     },
     "execution_count": 15,
     "metadata": {},
     "output_type": "execute_result"
    }
   ],
   "source": [
    "PROMPT = PromptTemplate(template=template_ENGLISH, input_variables=[\"summaries\", \"question\"])\n",
    "\n",
    "chain = load_qa_with_sources_chain(OpenAI(temperature=0), chain_type=\"stuff\", prompt=PROMPT)\n",
    "query = \"Where did you get the lease?\"\n",
    "docs = docsearch.similarity_search(query)\n",
    "chain({\"input_documents\": docs, \"question\": query}, return_only_outputs=True)"
   ]
  },
  {
   "cell_type": "code",
   "execution_count": 10,
   "id": "fb5f7e2c-44a1-4a24-b247-4a3c98bc79b8",
   "metadata": {
    "tags": []
   },
   "outputs": [
    {
     "name": "stdin",
     "output_type": "stream",
     "text": [
      "Enter query: who pays for water?\n"
     ]
    },
    {
     "name": "stdout",
     "output_type": "stream",
     "text": [
      "\n",
      "Custom-ChatGPT-app answer:  Tenant pays for water.\n",
      "\n",
      "\n",
      "{'query': 'who pays for water?', 'result': ' Tenant pays for water.', 'source_documents': [Document(page_content='water\\n        garbage collection\\n        snow removal\\n        other\\n    5. Deposit\\n    Tenant has paid a deposit of $[deposit amount] of which Landlord acknowledges receipt. Upon regaining possession of the property, Landlord shall refund to Tenant the total amount of the deposit less any damages to the property, normal wear and tear expected, and less any unpaid rent.\\n    6. Refund Procedures', metadata={}), Document(page_content='3. Rent\\n    Tenant agrees to pay rent in the amount of [monthly rent amount] per month, each payment due on the [day of the month] day of each month and to be made at:\\n    [Landlord address]\\n    4. Utilities/Services\\n    Landlord agrees to provide the utilities and services indicated: [circle all utilities and services that apply]\\n        electricity\\n        gas\\n        water\\n        garbage collection\\n        snow removal\\n        other\\n    5. Deposit', metadata={}), Document(page_content='Signatures\\n[include signatures and printed names of landlord and tenant]', metadata={}), Document(page_content='Tenant shall, upon termination of this Agreement, vacate and return the swelling in the same condition that it was received, less reasonable wear and tear, and other damages beyond the Tenant’s control.\\n        Any alternations to this Agreement shall be in writing and signed by all parties. We, the undersigned, agree to this Lease:', metadata={})]}\n"
     ]
    }
   ],
   "source": [
    "query = input(\"Enter query:\")\n",
    "ans = qa({\"query\": query})\n",
    "\n",
    "print(\"\\nCustom-ChatGPT-app answer: \" + ans['result'] + \"\\n\\n\")\n",
    "print(ans)\n"
   ]
  },
  {
   "cell_type": "code",
   "execution_count": 19,
   "id": "07f3a0b8-a86b-4ef6-920a-93fa66185647",
   "metadata": {},
   "outputs": [
    {
     "data": {
      "text/plain": [
       "{'output_text': '\\nThe tenant is responsible for paying the water bill according to the Sample Lease or Rental Agreement from https://altoona.psu.edu/offices-divisions/student-affairs/off-campus-living/sample-lease-rental-agreement. Section 4 of the agreement states that the tenant is responsible for paying for the utilities and services indicated, which includes water. \\n\\nSOURCES: \\nSample Lease or Rental Agreement from https://altoona.psu.edu/offices-divisions/student-affairs/off-campus-living/sample-lease-rental-agreement'}"
      ]
     },
     "execution_count": 19,
     "metadata": {},
     "output_type": "execute_result"
    }
   ],
   "source": [
    "PROMPT = PromptTemplate(template=template_ENGLISH, input_variables=[\"summaries\", \"question\"])\n",
    "\n",
    "chain = load_qa_with_sources_chain(OpenAI(temperature=0), chain_type=\"stuff\", prompt=PROMPT)\n",
    "query = \"Who pays the water bill?\"\n",
    "docs = docsearch.similarity_search(query)\n",
    "chain({\"input_documents\": docs, \"question\": query}, return_only_outputs=True)"
   ]
  },
  {
   "cell_type": "code",
   "execution_count": 21,
   "id": "3a74b733-7ddd-4b13-b207-81ca161595ec",
   "metadata": {},
   "outputs": [
    {
     "data": {
      "text/plain": [
       "{'output_text': '\\nIf the tenant is 11 days late for paying rent, the landlord may retain any portion of the security deposit for damages noted in the Move-Out Checklist to which the Landlord did not object. The tenant may also be subject to other penalties, such as late fees, as outlined in the lease agreement. \\n\\nSOURCES: \\n0. Sample Lease or Rental Agreement from https://altoona.psu.edu/offices-divisions/student-affairs/off-campus-living/sample-lease-rental-agreement\\n1. https://www.rocketlawyer.com/form/lease-agreement.rl\\n2. https://www.lawdepot.com/contracts/lease-agreement/?loc=US\\n3. https://www.thebalancesmb.com/sample-lease-agreement-2866540'}"
      ]
     },
     "execution_count": 21,
     "metadata": {},
     "output_type": "execute_result"
    }
   ],
   "source": [
    "PROMPT = PromptTemplate(template=template_ENGLISH, input_variables=[\"summaries\", \"question\"])\n",
    "\n",
    "chain = load_qa_with_sources_chain(OpenAI(temperature=0), chain_type=\"stuff\", prompt=PROMPT)\n",
    "query = \"What happens when the tenant is 11 days late for paying rent\"\n",
    "docs = docsearch.similarity_search(query)\n",
    "chain({\"input_documents\": docs, \"question\": query}, return_only_outputs=True)"
   ]
  },
  {
   "cell_type": "code",
   "execution_count": 22,
   "id": "17b7df2f-efb6-4086-aae4-6d6086229d58",
   "metadata": {},
   "outputs": [
    {
     "data": {
      "text/plain": [
       "{'output_text': '\\nYes, the tenant can sublet the lease with the written consent of the landlord, which cannot be withheld unreasonably. This is stated in Section 8 of the lease agreement. \\n\\nSOURCES: \\n0. Sample Lease or Rental Agreement from https://altoona.psu.edu/offices-divisions/student-affairs/off-campus-living/sample-lease-rental-agreement\\n1. Content from Question\\n2. Content from Question\\n3. Content from Question'}"
      ]
     },
     "execution_count": 22,
     "metadata": {},
     "output_type": "execute_result"
    }
   ],
   "source": [
    "PROMPT = PromptTemplate(template=template_ENGLISH, input_variables=[\"summaries\", \"question\"])\n",
    "\n",
    "chain = load_qa_with_sources_chain(OpenAI(temperature=0), chain_type=\"stuff\", prompt=PROMPT)\n",
    "query = \"can tenant sublet the lease?\"\n",
    "docs = docsearch.similarity_search(query)\n",
    "chain({\"input_documents\": docs, \"question\": query}, return_only_outputs=True)"
   ]
  },
  {
   "cell_type": "code",
   "execution_count": 17,
   "id": "fdd1d63a-e8f1-4fb6-b26e-26c39d5c8a83",
   "metadata": {
    "collapsed": true,
    "jupyter": {
     "outputs_hidden": true,
     "source_hidden": true
    },
    "tags": []
   },
   "outputs": [
    {
     "data": {
      "text/plain": [
       "{'output_text': '\\n根據第四條，租客同意支付房租，以及提供的其他服務，例如電力、瓦斯、水費、垃圾收集和雪管理等。因此，租客需要支付水費。\\n\\n來源：\\n0. https://altoona.psu.edu/offices-divisions/student-affairs/off-campus-living/sample-lease-rental-agreement\\n1. https://www.lawdepot.com/contracts/lease-agreement/?loc=US\\n2. https://www.dca.ca.gov/publications/landlordbook/lease-agreements.shtml'}"
      ]
     },
     "execution_count": 17,
     "metadata": {},
     "output_type": "execute_result"
    }
   ],
   "source": [
    "PROMPT = PromptTemplate(template=template_CHINESE, input_variables=[\"summaries\", \"question\"])\n",
    "\n",
    "chain = load_qa_with_sources_chain(OpenAI(temperature=0), chain_type=\"stuff\", prompt=PROMPT)\n",
    "query = \"Who pays the water bill?\"\n",
    "chain({\"input_documents\": docs, \"question\": query}, return_only_outputs=True)"
   ]
  },
  {
   "cell_type": "code",
   "execution_count": 19,
   "id": "0ff04eb2-1180-46bd-9693-95bd7bcc38f6",
   "metadata": {},
   "outputs": [
    {
     "data": {
      "text/plain": [
       "{'output_text': '\\nCustom-ChatGPT does not know who King Charles is. \\n\\nSOURCES:\\n0. Sample Lease or Rental Agreement from https://altoona.psu.edu/offices-divisions/student-affairs/off-campus-living/sample-lease-rental-agreement\\n1. Content: 1. Property\\n2. Content: The Landlord may not retain any portion of the Security Deposit for damages noted in the Move-Out Checklist to which the Landlord did not object.\\n3. Signatures'}"
      ]
     },
     "execution_count": 19,
     "metadata": {},
     "output_type": "execute_result"
    }
   ],
   "source": [
    "PROMPT = PromptTemplate(template=template_ENGLISH, input_variables=[\"summaries\", \"question\"])\n",
    "\n",
    "chain = load_qa_with_sources_chain(OpenAI(temperature=0), chain_type=\"stuff\", prompt=PROMPT)\n",
    "query = \"Who is King Charles?\"\n",
    "chain({\"input_documents\": docs, \"question\": query}, return_only_outputs=True)"
   ]
  }
 ],
 "metadata": {
  "kernelspec": {
   "display_name": "Python 3 (ipykernel)",
   "language": "python",
   "name": "python3"
  },
  "language_info": {
   "codemirror_mode": {
    "name": "ipython",
    "version": 3
   },
   "file_extension": ".py",
   "mimetype": "text/x-python",
   "name": "python",
   "nbconvert_exporter": "python",
   "pygments_lexer": "ipython3",
   "version": "3.8.13"
  }
 },
 "nbformat": 4,
 "nbformat_minor": 5
}
