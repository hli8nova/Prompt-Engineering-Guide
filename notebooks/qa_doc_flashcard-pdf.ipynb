{
 "cells": [
  {
   "cell_type": "code",
   "execution_count": 1,
   "id": "97d7d374-7e92-44da-9b8e-fcb72eadc228",
   "metadata": {},
   "outputs": [],
   "source": [
    "import os\n",
    "import getpass\n",
    "from langchain.document_loaders import PyPDFLoader, TextLoader\n",
    "from langchain.embeddings.openai import OpenAIEmbeddings\n",
    "from langchain.text_splitter import RecursiveCharacterTextSplitter, CharacterTextSplitter\n",
    "from langchain.vectorstores import DeepLake\n",
    "from langchain.chains import ConversationalRetrievalChain, RetrievalQA\n",
    "from langchain.chat_models import ChatOpenAI\n",
    "from langchain.llms import OpenAI"
   ]
  },
  {
   "cell_type": "code",
   "execution_count": 2,
   "id": "15bad25e-00ff-4d84-86d3-7cbc4e80e89a",
   "metadata": {},
   "outputs": [],
   "source": [
    "import openai\n",
    "import os\n",
    "import IPython\n",
    "from dotenv import load_dotenv\n",
    "load_dotenv()\n",
    "openai.api_key = os.getenv(\"OPENAI_API_KEY\")"
   ]
  },
  {
   "cell_type": "code",
   "execution_count": 3,
   "id": "5f7b4fb3-ba5b-4008-a2b4-5fe6b6147214",
   "metadata": {},
   "outputs": [],
   "source": [
    "my_contract = \"../docs/HHRG-117-GO00-20220929-SD010.pdf\"\n",
    "# my_contract = \"../docs/social_study_note.PDF\"\n",
    "text_folder = \"../docs\""
   ]
  },
  {
   "cell_type": "code",
   "execution_count": 5,
   "id": "1b1f8d1b-fd58-441d-906a-2bd68cbe162d",
   "metadata": {},
   "outputs": [
    {
     "name": "stdout",
     "output_type": "stream",
     "text": [
      "hub://will-nova/data_declaration_independence\n"
     ]
    }
   ],
   "source": [
    "ACTIVELOOP_TOKEN = os.getenv('ACTIVELOOP_TOKEN')\n",
    "org = os.getenv('ACTIVELOOP_ORG')\n",
    "\n",
    "embeddings = OpenAIEmbeddings()\n",
    "\n",
    "dataset_path = 'hub://' + org + '/data_declaration_independence'\n",
    "print(dataset_path)"
   ]
  },
  {
   "cell_type": "code",
   "execution_count": 6,
   "id": "40192b74-bd5e-41a8-94f0-8bca3096c383",
   "metadata": {},
   "outputs": [],
   "source": [
    "from langchain.document_loaders import PyPDFLoader\n",
    "\n",
    "loader = PyPDFLoader(my_contract)\n",
    "pages = loader.load_and_split()\n"
   ]
  },
  {
   "cell_type": "code",
   "execution_count": 7,
   "id": "bc708f87-abf7-40e8-b189-085051d6392a",
   "metadata": {
    "collapsed": true,
    "jupyter": {
     "outputs_hidden": true
    },
    "tags": []
   },
   "outputs": [
    {
     "data": {
      "text/plain": [
       "[Document(page_content='Page XLV 1The delegates of the United Colonies of New Hampshire; Mas -\\nsachusetts Bay; Rhode Island and Providence Plantations; Con -\\nnecticut; New York; New Jersey; Pennsylvania; New Castle,  \\nKent, and Sussex, in Delaware; Maryland; Virginia; North Caro -\\nlina, and South Carolina, In Congress assembled at Philadelphia,  \\nResolved on the 10th of May, 1776, to recommend to the respec -\\ntive assemblies and conventions of the United Colonies, where no  \\ngovernment sufficient to the exigencies of their affairs had been  \\nestablished, to adopt such a government as should, in the opin -\\nion of the representatives of the people, best conduce to the hap -\\npiness and safety of their constituents in particular, and of  \\nAmerica in general. A preamble to this resolution, agreed to on  \\nthe 15th of May, stated the intention to be totally to suppress  \\nthe exercise of every kind of authority under the British crown.  \\nOn the 7th of June, certain resolutions respecting independency  \\nwere moved and seconded. On the 10th of June it was resolved,  \\nthat a committee should be appointed to prepare a declaration  \\nto the following effect: ‘‘That the United Colonies are, and of  \\nright ought to be, free and independent States; that they are ab -\\nsolved from all allegiance to the British crown; and that all po -\\nlitical connection between them and the State of Great Britain  \\nis, and ought to be, totally dissolved.’’ On the preceding day it  \\nwas determined that the committee for preparing the declara -\\ntion should consist of five, and they were chosen accordingly, in  \\nthe following order: Mr. Jefferson, Mr. J. Adams, Mr. Franklin,  \\nMr. Sherman, Mr. R. R. Livingston. On the 11th of June a resolu -\\ntion was passed to appoint a committee to prepare and digest  \\nthe form of a confederation to be entered into between the colo -\\nnies, and another committee to prepare a plan of treaties to be  \\nproposed to foreign powers. On the 12th of June, it was resolved,  \\nthat a committee of Congress should be appointed by the name  \\nof a board of war and ordnance, to consist of five members. On  \\nthe 25th of June, a declaration of the deputies of Pennsylvania,  \\nmet in provincial conference, expressing their willingness to  \\nconcur in a vote declaring the United Colonies free and inde -\\npendent States, was laid before Congress and read. On the 28th  \\nof June, the committee appointed to prepare a declaration of  \\nindependence brought in a draught, which was read, and ordered  \\nto lie on the table. On the 1st of July, a resolution of the conven -\\ntion of Maryland, passed the 28th of June, authorizing the depu -\\nties of that colony to concur in declaring the United Colonies  \\nfree and independent States, was laid before Congress and read.  \\nOn the same day Congress resolved itself into a committee of the  \\nwhole, to take into consideration the resolution respecting inde -\\npendency. On the 2d of July, a resolution declaring the colonies  \\nfree and independent States, was adopted. A declaration to that  \\neffect was, on the same and the following days, taken into fur -\\nther consideration. Finally, on the 4th of July, the Declaration  \\nof Independence was agreed to, engrossed on paper, signed by  \\nJohn Hancock as president, and directed to be sent to the sev -\\neral assemblies, conventions, and committees, or councils of  \\nsafety, and to the several commanding officers of the continen -\\ntal troops, and to be proclaimed in each of the United States,  \\nand at the head of the Army. It was also ordered to be entered  \\nupon the Journals of Congress, and on the 2d of August, a copy  \\nengrossed on parchment was signed by all but one of the fifty-  \\nsix signers whose names are appended to it. That one was Mat -\\nthew Thornton, of New Hampshire, who on taking his seat in No -\\nvember asked and obtained the privilege of signing it. Several  \\nwho signed it on the 2d of August were absent when it was adopt -ed on the 4th of July, but, approving of it, they thus signified', metadata={'source': '../docs/HHRG-117-GO00-20220929-SD010.pdf', 'page': 0}),\n",
       " Document(page_content='vember asked and obtained the privilege of signing it. Several  \\nwho signed it on the 2d of August were absent when it was adopt -ed on the 4th of July, but, approving of it, they thus signified  \\ntheir approbation.  \\nNOTE.—The proof of this document, as published above, was  \\nread by Mr. Ferdinand Jefferson, the Keeper of the Rolls at the  \\nDepartment of State, at Washington, who compared it with the  \\nfac-simile of the original in his custody. He says: ‘‘In the fac-  \\nsimile, as in the original, the whole instrument runs on without  \\na break, but dashes are mostly inserted. I have, in this copy, fol -\\nlowed the arrangement of paragraphs adopted in the publication  \\nof the Declaration in the newspaper of John Dunlap, and as  \\nprinted by him for the Congress, which printed copy is inserted  \\nin the original Journal of the old Congress. The same paragraphs  \\nare also made by the author, in the original draught preserved  \\nin the Department of State.’’  THE DECLARATION OF INDEPENDENCE—17761 \\nINCONGRESS , JULY4, 1776  \\nThe unanimous Declaration of the thirteen united  \\nStates of America  \\nWHEN in the Course of human events, it be -\\ncomes necessary for one people to dissolve the  \\npolitical bands which have connected them with  \\nanother, and to assume among the powers of the  \\nearth, the separate and equal station to which  \\nthe Laws of Nature and of Nature’s God entitle  \\nthem, a decent respect to the opinions of man -\\nkind requires that they should declare the  \\ncauses which impel them to the separation.  We hold these truths to be self-evident, that  \\nall men are created equal, that they are en -\\ndowed by their Creator with certain unalienable  \\nRights, that among these are Life, Liberty and  \\nthe pursuit of Happiness. That to secure these  \\nrights, Governments are instituted among Men,  \\nderiving their just powers from the consent of  \\nthe governed,—That whenever any Form of Gov -\\nernment becomes destructive of these ends, it is  \\nthe Right of the People to alter or to abolish it,  \\nand to institute new Government, laying its  \\nfoundation on such principles and organizing its  \\npowers in such form, as to them shall seem most  \\nlikely to effect their Safety and Happiness. Pru -\\ndence, indeed, will dictate that Governments  \\nlong established should not be changed for light  \\nand transient causes; and accordingly all experi -\\nence hath shewn, that mankind are more dis -\\nposed to suffer, while evils are sufferable, than  \\nto right themselves by abolishing the forms to  \\nwhich they are accustomed. But when a long  \\ntrain of abuses and usurpations, pursuing invari -\\nably the same Object evinces a design to reduce  \\nthem under absolute Despotism, it is their right,  \\nit is their duty, to throw off such Government,  \\nand to provide new Guards for their future secu -\\nrity.—Such has been the patient sufferance of  \\nthese Colonies; and such is now the necessity  \\nwhich constrains them to alter their former  \\nSystems of Government. The history of the  \\npresent King of Great Britain is a history of re -\\npeated injuries and usurpations, all having in di -\\nrect object the establishment of an absolute  \\nTyranny over these States. To prove this, let  \\nFacts be submitted to a candid world.  \\nHe has refused his Assent to Laws, the most  \\nwholesome and necessary for the public good.  \\nHe has forbidden his Governors to pass Laws of  \\nimmediate and pressing importance, unless sus -\\npended in their operation till his Assent should  \\nbe obtained; and when so suspended, he has ut -\\nterly neglected to attend to them.  \\nHe has refused to pass other Laws for the ac -\\ncommodation of large districts of people, unless  \\nthose people would relinquish the right of Rep -\\nresentation in the Legislature, a right inestima -\\nble to them and formidable to tyrants only.  \\nHe has called together legislative bodies at  \\nplaces unusual, uncomfortable, and distance', metadata={'source': '../docs/HHRG-117-GO00-20220929-SD010.pdf', 'page': 0}),\n",
       " Document(page_content='resentation in the Legislature, a right inestima -\\nble to them and formidable to tyrants only.  \\nHe has called together legislative bodies at  \\nplaces unusual, uncomfortable, and distance  \\nVerDate Aug 31 2005 08:33 Feb 15, 2008 Jkt 040101 PO 00000 Frm 00001 Fmt 5820 Sfmt 5820 Y:\\\\TS\\\\2006MAIN\\\\2006V1.MN\\\\V1PRE4.MN BOB', metadata={'source': '../docs/HHRG-117-GO00-20220929-SD010.pdf', 'page': 0}),\n",
       " Document(page_content='Page XLVI THE DECLARATION OF INDEPENDENCE—1776  \\nfrom the depository of their public Records, for  \\nthe sole purpose of fatiguing them into compli -\\nance with his measures.  \\nHe has dissolved Representative Houses re -\\npeatedly, for opposing with manly firmness his  \\ninvasions on the rights of the people.  \\nHe has refused for a long time, after such dis -\\nsolutions, to cause others to be elected; whereby  \\nthe Legislative powers, incapable of Annihila -\\ntion, have returned to the People at large for  \\ntheir exercise; the State remaining in the mean  \\ntime exposed to all the dangers of invasion from  \\nwithout, and convulsions within.  \\nHe has endeavoured to prevent the population  \\nof these States; for that purpose obstructing the  \\nLaws for Naturalization of Foreigners; refusing  \\nto pass others to encourage their migrations  \\nhither, and raising the conditions of new Appro -\\npriations of Lands.  \\nHe has obstructed the Administration of Jus -\\ntice, by refusing his Assent to Laws for estab -\\nlishing Judiciary powers.  \\nHe has made Judges dependent on his Will  \\nalone, for the tenure of their offices, and the  \\namount and payment of their salaries.  \\nHe has erected a multitude of New Offices, and  \\nsent hither swarms of Officers to harass our peo -\\nple, and eat out their substance.  \\nHe has kept among us, in times of peace,  \\nStanding Armies without the Consent of our leg -\\nislatures.  \\nHe has affected to render the Military inde -\\npendent of and superior to the Civil power.  \\nHe has combined with others to subject us to  \\na jurisdiction foreign to our constitution, and  \\nunacknowledged by our laws; giving his Assent  \\nto their acts of pretended Legislation:  \\nFor quartering large bodies of armed troops  \\namong us:  \\nFor protecting them, by a mock Trial, from  \\npunishment for any Murders which they should  \\ncommit on the Inhabitants of these States:  \\nFor cutting off our Trade with all parts of the  \\nworld:  \\nFor imposing Taxes on us without our Con -\\nsent:  \\nFor depriving us in many cases, of the benefits  \\nof Trial by Jury:  \\nFor transporting us beyond Seas to be tried  \\nfor pretended offenses:  \\nFor abolishing the free System of English  \\nLaws in a neighbouring Province, establishing  \\ntherein an Arbitrary government, and enlarging  \\nits Boundaries so as to render it at once an ex -\\nample and fit instrument for introducing the  \\nsame absolute rule into these Colonies:  \\nFor taking away our Charters, abolishing our  \\nmost valuable Laws, and altering fundamentally  \\nthe Forms of our Governments:  \\nFor suspending our own Legislatures, and de -\\nclaring themselves invested with power to legis -\\nlate for us in all cases whatsoever.  \\nHe has abdicated Government here, by declar -\\ning us out of his Protection and waging War  \\nagainst us.  \\nHe has plundered our seas, ravaged our Coasts,  \\nburnt our towns, and destroyed the lives of our  \\npeople.  \\nHe is at this time transporting large Armies of  \\nforeign Mercenaries to compleat the works of  \\ndeath, desolation and tyranny, already begun  with circumstances of Cruelty & perfidy scarce -\\nly paralleled in the most barbarous ages, and to -\\ntally unworthy the Head of a civilized nation.  \\nHe has constrained our fellow Citizens taken  \\nCaptive on the high Seas to bear Arms against  \\ntheir Country, to become the executioners of  \\ntheir friends and Brethren, or to fall themselves  \\nby their Hands.  \\nHe has excited domestic insurrections  \\namongst us, and has endeavoured to bring on the  \\ninhabitants of our frontiers, the merciless In -\\ndian Savages, whose known rule of warfare, is an  \\nundistinguished destruction of all ages, sexes  \\nand conditions.  \\nIn every stage of these Oppressions We have  \\nPetitioned for Redress in the most humble  \\nterms: Our repeated Petitions have been an -\\nswered only by repeated injury. A Prince, whose  \\ncharacter is thus marked by every act which  \\nmay define a Tyrant, is unfit to be the ruler of  \\na free people.  \\nNor have We been wanting in attentions to our', metadata={'source': '../docs/HHRG-117-GO00-20220929-SD010.pdf', 'page': 1}),\n",
       " Document(page_content='character is thus marked by every act which  \\nmay define a Tyrant, is unfit to be the ruler of  \\na free people.  \\nNor have We been wanting in attentions to our  \\nBrittish brethren. We have warned them from  \\ntime to time of attempts by their legislature to  \\nextend an unwarrantable jurisdiction over us.  \\nWe have reminded them of the circumstances of  \\nour emigration and settlement here. We have  \\nappealed to their native justice and magnanim -\\nity, and we have conjured them by the ties of  \\nour common kindred to disavow these usurpa -\\ntions, which, would inevitably interrupt our  \\nconnections and correspondence. They too have  \\nbeen deaf to the voice of justice and of con -\\nsanguinity. We must, therefore, acquiesce in the  \\nnecessity, which denounces our Separation, and  \\nhold them, as we hold the rest of mankind, En -\\nemies in War, in Peace Friends.  \\nWE, THEREFORE , the Representatives of the  \\nUNITED STATES OF AMERICA , in General Congress,  \\nAssembled, appealing to the Supreme Judge of  \\nthe world for the rectitude of our intentions, do,  \\nin the Name, and by Authority of the good Peo -\\nple of these Colonies, solemnly publish and de -\\nclare, That these United Colonies are, and of  \\nRight ought to be F REE AND INDEPENDENT  \\nSTATES ; that they are Absolved from all Alle -\\ngiance to the British Crown, and that all politi -\\ncal connection between them and the State of  \\nGreat Britain, is and ought to be totally dis -\\nsolved; and that as Free and Independent States,  \\nthey have full Power to levy War, conclude  \\nPeace, contract Alliances, establish Commerce,  \\nand to do all other Acts and Things which Inde -\\npendent States may of right do. And for the sup -\\nport of this Declaration, with a firm reliance on  \\nthe protection of divine Providence, we mutu -\\nally pledge to each other our Lives, our For -\\ntunes and our sacred Honor.  \\nJOHN HANCOCK.  \\nNew Hampshire  \\nJOSIAH BARTLETT , MATTHEW THORNTON . \\nWM. WHIPPLE , \\nMassachusetts Bay  \\nSAML. ADAMS , ROBT. TREAT PAINE, \\nJOHNADAMS , ELBRIDGE GERRY . \\nRhode Island  \\nSTEP. HOPKINS , WILLIAM ELLERY . \\nVerDate Aug 31 2005 08:33 Feb 15, 2008 Jkt 040101 PO 00000 Frm 00002 Fmt 5820 Sfmt 5807 Y:\\\\TS\\\\2006MAIN\\\\2006V1.MN\\\\V1PRE4.MN BOB', metadata={'source': '../docs/HHRG-117-GO00-20220929-SD010.pdf', 'page': 1}),\n",
       " Document(page_content='Page XLVII  THE DECLARATION OF INDEPENDENCE—1776  \\nConnecticut  \\nROGER SHERMAN , WM. WILLIAMS , \\nSAM’ELHUNTINGTON , OLIVER WOLCOTT . \\nNew York  \\nWM. FLOYD , FRANS . LEWIS, \\nPHIL. LIVINGSTON , LEWIS MORRIS . \\nNew Jersey  \\nRICHD. STOCKTON , JOHNHART, \\nJNO. WITHERSPOON , ABRA. CLARK . \\nFRAS. HOPKINSON , \\nPennsylvania  \\nROBT. MORRIS , JAS. SMITH, \\nBENJAMIN RUSH, GEO. TAYLOR , \\nBENJA. FRANKLIN , JAMES WILSON , \\nJOHNMORTON , GEO. ROSS. \\nGEO. CLYMER , \\nDelaware  \\nCAESAR RODNEY , THO. M’K EAN. \\nGEO. READ, \\nMaryland  \\nSAMUEL CHASE , CHARLES CARROLL OF  \\nWM. PACA, Carrollton.  \\nTHOS. STONE , Virginia  \\nGEORGE WYTHE , THOS. NELSON , jr., \\nRICHARD HENRY LEE, FRANCIS LIGHTFOOT  \\nTH. JEFFERSON , LEE, \\nBENJA. HARRISON , CARTER BRAXTON . \\nNorth Carolina  \\nWM. HOOPER , JOHNPENN. \\nJOSEPH HEWES , \\nSouth Carolina  \\nTHOS. HEYWARD , THOMAS LYNCH , Junr.,  \\nJunr.,  ARTHUR MIDDLETON . \\nEDWARD RUTLEDGE , \\nGeorgia  \\nBUTTON GWINNETT , GEO. WALTON . \\nLYMAN HALL, \\nNOTE.—Mr. Ferdinand Jefferson, Keeper of the Rolls in the De -\\npartment of State, at Washington, says: ‘‘The names of the sign -\\ners are spelt above as in the fac-simile of the original, but the  \\npunctuation of them is not always the same; neither do the  \\nnames of the States appear in the fac-simile of the original. The  \\nnames of the signers of each State are grouped together in the  \\nfac-simile of the original, except the name of Matthew Thorn -\\nton, which follows that of Oliver Wolcott.’’  \\nVerDate Aug 31 2005 08:33 Feb 15, 2008 Jkt 040101 PO 00000 Frm 00003 Fmt 5820 Sfmt 5800 Y:\\\\TS\\\\2006MAIN\\\\2006V1.MN\\\\V1PRE4.MN BOB', metadata={'source': '../docs/HHRG-117-GO00-20220929-SD010.pdf', 'page': 2})]"
      ]
     },
     "execution_count": 7,
     "metadata": {},
     "output_type": "execute_result"
    }
   ],
   "source": [
    "pages"
   ]
  },
  {
   "cell_type": "code",
   "execution_count": 8,
   "id": "cda06876-d211-46a5-b537-2d7d8263aabc",
   "metadata": {
    "tags": []
   },
   "outputs": [],
   "source": [
    "# with open(my_contract) as f:\n",
    "#     contract = f.read()\n",
    "# # text_splitter = CharacterTextSplitter(chunk_size=500, chunk_overlap=0)\n",
    "\n",
    "text_splitter = RecursiveCharacterTextSplitter(chunk_size=250, chunk_overlap=100)\n",
    "# pages = text_splitter.split_text(contract)\n",
    "# for page in pages:\n",
    "# texts = text_splitter.create_documents(pages)\n",
    "\n",
    "# print (texts)"
   ]
  },
  {
   "cell_type": "code",
   "execution_count": 9,
   "id": "8f6799bf-ddd3-47c4-a980-9a8dba7fbc4b",
   "metadata": {},
   "outputs": [
    {
     "name": "stdout",
     "output_type": "stream",
     "text": [
      "Your Deep Lake dataset has been successfully created!\n",
      "The dataset is private so make sure you are logged in!\n"
     ]
    },
    {
     "name": "stderr",
     "output_type": "stream",
     "text": [
      "|"
     ]
    },
    {
     "name": "stdout",
     "output_type": "stream",
     "text": [
      "This dataset can be visualized in Jupyter Notebook by ds.visualize() or at https://app.activeloop.ai/will-nova/data_declaration_independence\n"
     ]
    },
    {
     "name": "stderr",
     "output_type": "stream",
     "text": [
      " \r"
     ]
    },
    {
     "name": "stdout",
     "output_type": "stream",
     "text": [
      "hub://will-nova/data_declaration_independence loaded successfully.\n"
     ]
    },
    {
     "name": "stderr",
     "output_type": "stream",
     "text": [
      "Evaluating ingest: 100%|███████████████████████████████████████████████████████████| 1/1 [00:48<00:00\n",
      "/"
     ]
    },
    {
     "name": "stdout",
     "output_type": "stream",
     "text": [
      "Dataset(path='hub://will-nova/data_declaration_independence', tensors=['embedding', 'ids', 'metadata', 'text'])\n",
      "\n",
      "  tensor     htype     shape     dtype  compression\n",
      "  -------   -------   -------   -------  ------- \n",
      " embedding  generic  (6, 1536)  float32   None   \n",
      "    ids      text     (6, 1)      str     None   \n",
      " metadata    json     (6, 1)      str     None   \n",
      "   text      text     (6, 1)      str     None   \n"
     ]
    },
    {
     "name": "stderr",
     "output_type": "stream",
     "text": [
      " \r"
     ]
    }
   ],
   "source": [
    "# dataset_path = 'hub://'+org+'/data'\n",
    "embeddings = OpenAIEmbeddings()\n",
    "db = DeepLake.from_documents(pages, embeddings, dataset_path=dataset_path, overwrite=True)"
   ]
  },
  {
   "cell_type": "code",
   "execution_count": 12,
   "id": "74f487dc-bf4c-4938-b289-54ce98da5071",
   "metadata": {},
   "outputs": [
    {
     "name": "stderr",
     "output_type": "stream",
     "text": [
      "-"
     ]
    },
    {
     "name": "stdout",
     "output_type": "stream",
     "text": [
      "This dataset can be visualized in Jupyter Notebook by ds.visualize() or at https://app.activeloop.ai/will-nova/data_declaration_independence\n",
      "\n"
     ]
    },
    {
     "name": "stderr",
     "output_type": "stream",
     "text": [
      "/"
     ]
    },
    {
     "name": "stdout",
     "output_type": "stream",
     "text": [
      "hub://will-nova/data_declaration_independence loaded successfully.\n",
      "\n",
      "Deep Lake Dataset in hub://will-nova/data_declaration_independence already exists, loading from the storage\n",
      "Dataset(path='hub://will-nova/data_declaration_independence', read_only=True, tensors=['embedding', 'ids', 'metadata', 'text'])\n",
      "\n",
      "  tensor     htype     shape     dtype  compression\n",
      "  -------   -------   -------   -------  ------- \n",
      " embedding  generic  (6, 1536)  float32   None   \n",
      "    ids      text     (6, 1)      str     None   \n",
      " metadata    json     (6, 1)      str     None   \n",
      "   text      text     (6, 1)      str     None   \n"
     ]
    },
    {
     "name": "stderr",
     "output_type": "stream",
     "text": [
      " \r"
     ]
    }
   ],
   "source": [
    "db = DeepLake(dataset_path=dataset_path, read_only=True, embedding_function=embeddings)\n",
    "\n",
    "retriever = db.as_retriever()\n",
    "retriever.search_kwargs['distance_metric'] = 'cos'\n",
    "retriever.search_kwargs['k'] = 4\n",
    "\n",
    "MODEL = \"text-davinci-003\" \n",
    "qa = RetrievalQA.from_chain_type(llm=OpenAI(model_name=MODEL), chain_type=\"stuff\", retriever=retriever, return_source_documents=True)"
   ]
  },
  {
   "cell_type": "code",
   "execution_count": 13,
   "id": "acb15115-d26c-4572-95b0-c4a5fb905e8e",
   "metadata": {
    "collapsed": true,
    "jupyter": {
     "outputs_hidden": true
    },
    "tags": []
   },
   "outputs": [
    {
     "name": "stdin",
     "output_type": "stream",
     "text": [
      "Enter query: when was this written?\n"
     ]
    },
    {
     "name": "stdout",
     "output_type": "stream",
     "text": [
      "\n",
      "Custom-ChatGPT-app answer:  This was written in 1776.\n",
      "\n",
      "\n",
      "{'query': 'when was this written?', 'result': ' This was written in 1776.', 'source_documents': [Document(page_content='vember asked and obtained the privilege of signing it. Several  \\nwho signed it on the 2d of August were absent when it was adopt -ed on the 4th of July, but, approving of it, they thus signified  \\ntheir approbation.  \\nNOTE.—The proof of this document, as published above, was  \\nread by Mr. Ferdinand Jefferson, the Keeper of the Rolls at the  \\nDepartment of State, at Washington, who compared it with the  \\nfac-simile of the original in his custody. He says: ‘‘In the fac-  \\nsimile, as in the original, the whole instrument runs on without  \\na break, but dashes are mostly inserted. I have, in this copy, fol -\\nlowed the arrangement of paragraphs adopted in the publication  \\nof the Declaration in the newspaper of John Dunlap, and as  \\nprinted by him for the Congress, which printed copy is inserted  \\nin the original Journal of the old Congress. The same paragraphs  \\nare also made by the author, in the original draught preserved  \\nin the Department of State.’’  THE DECLARATION OF INDEPENDENCE—17761 \\nINCONGRESS , JULY4, 1776  \\nThe unanimous Declaration of the thirteen united  \\nStates of America  \\nWHEN in the Course of human events, it be -\\ncomes necessary for one people to dissolve the  \\npolitical bands which have connected them with  \\nanother, and to assume among the powers of the  \\nearth, the separate and equal station to which  \\nthe Laws of Nature and of Nature’s God entitle  \\nthem, a decent respect to the opinions of man -\\nkind requires that they should declare the  \\ncauses which impel them to the separation.  We hold these truths to be self-evident, that  \\nall men are created equal, that they are en -\\ndowed by their Creator with certain unalienable  \\nRights, that among these are Life, Liberty and  \\nthe pursuit of Happiness. That to secure these  \\nrights, Governments are instituted among Men,  \\nderiving their just powers from the consent of  \\nthe governed,—That whenever any Form of Gov -\\nernment becomes destructive of these ends, it is  \\nthe Right of the People to alter or to abolish it,  \\nand to institute new Government, laying its  \\nfoundation on such principles and organizing its  \\npowers in such form, as to them shall seem most  \\nlikely to effect their Safety and Happiness. Pru -\\ndence, indeed, will dictate that Governments  \\nlong established should not be changed for light  \\nand transient causes; and accordingly all experi -\\nence hath shewn, that mankind are more dis -\\nposed to suffer, while evils are sufferable, than  \\nto right themselves by abolishing the forms to  \\nwhich they are accustomed. But when a long  \\ntrain of abuses and usurpations, pursuing invari -\\nably the same Object evinces a design to reduce  \\nthem under absolute Despotism, it is their right,  \\nit is their duty, to throw off such Government,  \\nand to provide new Guards for their future secu -\\nrity.—Such has been the patient sufferance of  \\nthese Colonies; and such is now the necessity  \\nwhich constrains them to alter their former  \\nSystems of Government. The history of the  \\npresent King of Great Britain is a history of re -\\npeated injuries and usurpations, all having in di -\\nrect object the establishment of an absolute  \\nTyranny over these States. To prove this, let  \\nFacts be submitted to a candid world.  \\nHe has refused his Assent to Laws, the most  \\nwholesome and necessary for the public good.  \\nHe has forbidden his Governors to pass Laws of  \\nimmediate and pressing importance, unless sus -\\npended in their operation till his Assent should  \\nbe obtained; and when so suspended, he has ut -\\nterly neglected to attend to them.  \\nHe has refused to pass other Laws for the ac -\\ncommodation of large districts of people, unless  \\nthose people would relinquish the right of Rep -\\nresentation in the Legislature, a right inestima -\\nble to them and formidable to tyrants only.  \\nHe has called together legislative bodies at  \\nplaces unusual, uncomfortable, and distance', metadata={'source': '../docs/HHRG-117-GO00-20220929-SD010.pdf', 'page': 0}), Document(page_content='Page XLV 1The delegates of the United Colonies of New Hampshire; Mas -\\nsachusetts Bay; Rhode Island and Providence Plantations; Con -\\nnecticut; New York; New Jersey; Pennsylvania; New Castle,  \\nKent, and Sussex, in Delaware; Maryland; Virginia; North Caro -\\nlina, and South Carolina, In Congress assembled at Philadelphia,  \\nResolved on the 10th of May, 1776, to recommend to the respec -\\ntive assemblies and conventions of the United Colonies, where no  \\ngovernment sufficient to the exigencies of their affairs had been  \\nestablished, to adopt such a government as should, in the opin -\\nion of the representatives of the people, best conduce to the hap -\\npiness and safety of their constituents in particular, and of  \\nAmerica in general. A preamble to this resolution, agreed to on  \\nthe 15th of May, stated the intention to be totally to suppress  \\nthe exercise of every kind of authority under the British crown.  \\nOn the 7th of June, certain resolutions respecting independency  \\nwere moved and seconded. On the 10th of June it was resolved,  \\nthat a committee should be appointed to prepare a declaration  \\nto the following effect: ‘‘That the United Colonies are, and of  \\nright ought to be, free and independent States; that they are ab -\\nsolved from all allegiance to the British crown; and that all po -\\nlitical connection between them and the State of Great Britain  \\nis, and ought to be, totally dissolved.’’ On the preceding day it  \\nwas determined that the committee for preparing the declara -\\ntion should consist of five, and they were chosen accordingly, in  \\nthe following order: Mr. Jefferson, Mr. J. Adams, Mr. Franklin,  \\nMr. Sherman, Mr. R. R. Livingston. On the 11th of June a resolu -\\ntion was passed to appoint a committee to prepare and digest  \\nthe form of a confederation to be entered into between the colo -\\nnies, and another committee to prepare a plan of treaties to be  \\nproposed to foreign powers. On the 12th of June, it was resolved,  \\nthat a committee of Congress should be appointed by the name  \\nof a board of war and ordnance, to consist of five members. On  \\nthe 25th of June, a declaration of the deputies of Pennsylvania,  \\nmet in provincial conference, expressing their willingness to  \\nconcur in a vote declaring the United Colonies free and inde -\\npendent States, was laid before Congress and read. On the 28th  \\nof June, the committee appointed to prepare a declaration of  \\nindependence brought in a draught, which was read, and ordered  \\nto lie on the table. On the 1st of July, a resolution of the conven -\\ntion of Maryland, passed the 28th of June, authorizing the depu -\\nties of that colony to concur in declaring the United Colonies  \\nfree and independent States, was laid before Congress and read.  \\nOn the same day Congress resolved itself into a committee of the  \\nwhole, to take into consideration the resolution respecting inde -\\npendency. On the 2d of July, a resolution declaring the colonies  \\nfree and independent States, was adopted. A declaration to that  \\neffect was, on the same and the following days, taken into fur -\\nther consideration. Finally, on the 4th of July, the Declaration  \\nof Independence was agreed to, engrossed on paper, signed by  \\nJohn Hancock as president, and directed to be sent to the sev -\\neral assemblies, conventions, and committees, or councils of  \\nsafety, and to the several commanding officers of the continen -\\ntal troops, and to be proclaimed in each of the United States,  \\nand at the head of the Army. It was also ordered to be entered  \\nupon the Journals of Congress, and on the 2d of August, a copy  \\nengrossed on parchment was signed by all but one of the fifty-  \\nsix signers whose names are appended to it. That one was Mat -\\nthew Thornton, of New Hampshire, who on taking his seat in No -\\nvember asked and obtained the privilege of signing it. Several  \\nwho signed it on the 2d of August were absent when it was adopt -ed on the 4th of July, but, approving of it, they thus signified', metadata={'source': '../docs/HHRG-117-GO00-20220929-SD010.pdf', 'page': 0}), Document(page_content='character is thus marked by every act which  \\nmay define a Tyrant, is unfit to be the ruler of  \\na free people.  \\nNor have We been wanting in attentions to our  \\nBrittish brethren. We have warned them from  \\ntime to time of attempts by their legislature to  \\nextend an unwarrantable jurisdiction over us.  \\nWe have reminded them of the circumstances of  \\nour emigration and settlement here. We have  \\nappealed to their native justice and magnanim -\\nity, and we have conjured them by the ties of  \\nour common kindred to disavow these usurpa -\\ntions, which, would inevitably interrupt our  \\nconnections and correspondence. They too have  \\nbeen deaf to the voice of justice and of con -\\nsanguinity. We must, therefore, acquiesce in the  \\nnecessity, which denounces our Separation, and  \\nhold them, as we hold the rest of mankind, En -\\nemies in War, in Peace Friends.  \\nWE, THEREFORE , the Representatives of the  \\nUNITED STATES OF AMERICA , in General Congress,  \\nAssembled, appealing to the Supreme Judge of  \\nthe world for the rectitude of our intentions, do,  \\nin the Name, and by Authority of the good Peo -\\nple of these Colonies, solemnly publish and de -\\nclare, That these United Colonies are, and of  \\nRight ought to be F REE AND INDEPENDENT  \\nSTATES ; that they are Absolved from all Alle -\\ngiance to the British Crown, and that all politi -\\ncal connection between them and the State of  \\nGreat Britain, is and ought to be totally dis -\\nsolved; and that as Free and Independent States,  \\nthey have full Power to levy War, conclude  \\nPeace, contract Alliances, establish Commerce,  \\nand to do all other Acts and Things which Inde -\\npendent States may of right do. And for the sup -\\nport of this Declaration, with a firm reliance on  \\nthe protection of divine Providence, we mutu -\\nally pledge to each other our Lives, our For -\\ntunes and our sacred Honor.  \\nJOHN HANCOCK.  \\nNew Hampshire  \\nJOSIAH BARTLETT , MATTHEW THORNTON . \\nWM. WHIPPLE , \\nMassachusetts Bay  \\nSAML. ADAMS , ROBT. TREAT PAINE, \\nJOHNADAMS , ELBRIDGE GERRY . \\nRhode Island  \\nSTEP. HOPKINS , WILLIAM ELLERY . \\nVerDate Aug 31 2005 08:33 Feb 15, 2008 Jkt 040101 PO 00000 Frm 00002 Fmt 5820 Sfmt 5807 Y:\\\\TS\\\\2006MAIN\\\\2006V1.MN\\\\V1PRE4.MN BOB', metadata={'source': '../docs/HHRG-117-GO00-20220929-SD010.pdf', 'page': 1}), Document(page_content='Page XLVII  THE DECLARATION OF INDEPENDENCE—1776  \\nConnecticut  \\nROGER SHERMAN , WM. WILLIAMS , \\nSAM’ELHUNTINGTON , OLIVER WOLCOTT . \\nNew York  \\nWM. FLOYD , FRANS . LEWIS, \\nPHIL. LIVINGSTON , LEWIS MORRIS . \\nNew Jersey  \\nRICHD. STOCKTON , JOHNHART, \\nJNO. WITHERSPOON , ABRA. CLARK . \\nFRAS. HOPKINSON , \\nPennsylvania  \\nROBT. MORRIS , JAS. SMITH, \\nBENJAMIN RUSH, GEO. TAYLOR , \\nBENJA. FRANKLIN , JAMES WILSON , \\nJOHNMORTON , GEO. ROSS. \\nGEO. CLYMER , \\nDelaware  \\nCAESAR RODNEY , THO. M’K EAN. \\nGEO. READ, \\nMaryland  \\nSAMUEL CHASE , CHARLES CARROLL OF  \\nWM. PACA, Carrollton.  \\nTHOS. STONE , Virginia  \\nGEORGE WYTHE , THOS. NELSON , jr., \\nRICHARD HENRY LEE, FRANCIS LIGHTFOOT  \\nTH. JEFFERSON , LEE, \\nBENJA. HARRISON , CARTER BRAXTON . \\nNorth Carolina  \\nWM. HOOPER , JOHNPENN. \\nJOSEPH HEWES , \\nSouth Carolina  \\nTHOS. HEYWARD , THOMAS LYNCH , Junr.,  \\nJunr.,  ARTHUR MIDDLETON . \\nEDWARD RUTLEDGE , \\nGeorgia  \\nBUTTON GWINNETT , GEO. WALTON . \\nLYMAN HALL, \\nNOTE.—Mr. Ferdinand Jefferson, Keeper of the Rolls in the De -\\npartment of State, at Washington, says: ‘‘The names of the sign -\\ners are spelt above as in the fac-simile of the original, but the  \\npunctuation of them is not always the same; neither do the  \\nnames of the States appear in the fac-simile of the original. The  \\nnames of the signers of each State are grouped together in the  \\nfac-simile of the original, except the name of Matthew Thorn -\\nton, which follows that of Oliver Wolcott.’’  \\nVerDate Aug 31 2005 08:33 Feb 15, 2008 Jkt 040101 PO 00000 Frm 00003 Fmt 5820 Sfmt 5800 Y:\\\\TS\\\\2006MAIN\\\\2006V1.MN\\\\V1PRE4.MN BOB', metadata={'source': '../docs/HHRG-117-GO00-20220929-SD010.pdf', 'page': 2})]}\n"
     ]
    }
   ],
   "source": [
    "query = input(\"Enter query:\")\n",
    "ans = qa({\"query\": query})\n",
    "\n",
    "print(\"\\nCustom-ChatGPT-app answer: \" + ans['result'] + \"\\n\\n\")\n",
    "print(ans)\n"
   ]
  },
  {
   "cell_type": "code",
   "execution_count": 15,
   "id": "fe036d3e-a9b8-475a-aaef-65f666cd879f",
   "metadata": {
    "tags": []
   },
   "outputs": [
    {
     "name": "stdin",
     "output_type": "stream",
     "text": [
      "Enter query: why do we need to oppose the King? explain this to a 6 year old\n"
     ]
    },
    {
     "name": "stdout",
     "output_type": "stream",
     "text": [
      "\n",
      "Custom-ChatGPT-app answer:  We need to oppose the King because he is trying to take away our rights, like the right to have a say in our government and the right to be safe and happy. He is also trying to make us do things that we don't want to do.\n",
      "\n",
      "\n",
      "{'query': 'why do we need to oppose the King? explain this to a 6 year old', 'result': \" We need to oppose the King because he is trying to take away our rights, like the right to have a say in our government and the right to be safe and happy. He is also trying to make us do things that we don't want to do.\", 'source_documents': [Document(page_content='Page XLVI THE DECLARATION OF INDEPENDENCE—1776  \\nfrom the depository of their public Records, for  \\nthe sole purpose of fatiguing them into compli -\\nance with his measures.  \\nHe has dissolved Representative Houses re -\\npeatedly, for opposing with manly firmness his  \\ninvasions on the rights of the people.  \\nHe has refused for a long time, after such dis -\\nsolutions, to cause others to be elected; whereby  \\nthe Legislative powers, incapable of Annihila -\\ntion, have returned to the People at large for  \\ntheir exercise; the State remaining in the mean  \\ntime exposed to all the dangers of invasion from  \\nwithout, and convulsions within.  \\nHe has endeavoured to prevent the population  \\nof these States; for that purpose obstructing the  \\nLaws for Naturalization of Foreigners; refusing  \\nto pass others to encourage their migrations  \\nhither, and raising the conditions of new Appro -\\npriations of Lands.  \\nHe has obstructed the Administration of Jus -\\ntice, by refusing his Assent to Laws for estab -\\nlishing Judiciary powers.  \\nHe has made Judges dependent on his Will  \\nalone, for the tenure of their offices, and the  \\namount and payment of their salaries.  \\nHe has erected a multitude of New Offices, and  \\nsent hither swarms of Officers to harass our peo -\\nple, and eat out their substance.  \\nHe has kept among us, in times of peace,  \\nStanding Armies without the Consent of our leg -\\nislatures.  \\nHe has affected to render the Military inde -\\npendent of and superior to the Civil power.  \\nHe has combined with others to subject us to  \\na jurisdiction foreign to our constitution, and  \\nunacknowledged by our laws; giving his Assent  \\nto their acts of pretended Legislation:  \\nFor quartering large bodies of armed troops  \\namong us:  \\nFor protecting them, by a mock Trial, from  \\npunishment for any Murders which they should  \\ncommit on the Inhabitants of these States:  \\nFor cutting off our Trade with all parts of the  \\nworld:  \\nFor imposing Taxes on us without our Con -\\nsent:  \\nFor depriving us in many cases, of the benefits  \\nof Trial by Jury:  \\nFor transporting us beyond Seas to be tried  \\nfor pretended offenses:  \\nFor abolishing the free System of English  \\nLaws in a neighbouring Province, establishing  \\ntherein an Arbitrary government, and enlarging  \\nits Boundaries so as to render it at once an ex -\\nample and fit instrument for introducing the  \\nsame absolute rule into these Colonies:  \\nFor taking away our Charters, abolishing our  \\nmost valuable Laws, and altering fundamentally  \\nthe Forms of our Governments:  \\nFor suspending our own Legislatures, and de -\\nclaring themselves invested with power to legis -\\nlate for us in all cases whatsoever.  \\nHe has abdicated Government here, by declar -\\ning us out of his Protection and waging War  \\nagainst us.  \\nHe has plundered our seas, ravaged our Coasts,  \\nburnt our towns, and destroyed the lives of our  \\npeople.  \\nHe is at this time transporting large Armies of  \\nforeign Mercenaries to compleat the works of  \\ndeath, desolation and tyranny, already begun  with circumstances of Cruelty & perfidy scarce -\\nly paralleled in the most barbarous ages, and to -\\ntally unworthy the Head of a civilized nation.  \\nHe has constrained our fellow Citizens taken  \\nCaptive on the high Seas to bear Arms against  \\ntheir Country, to become the executioners of  \\ntheir friends and Brethren, or to fall themselves  \\nby their Hands.  \\nHe has excited domestic insurrections  \\namongst us, and has endeavoured to bring on the  \\ninhabitants of our frontiers, the merciless In -\\ndian Savages, whose known rule of warfare, is an  \\nundistinguished destruction of all ages, sexes  \\nand conditions.  \\nIn every stage of these Oppressions We have  \\nPetitioned for Redress in the most humble  \\nterms: Our repeated Petitions have been an -\\nswered only by repeated injury. A Prince, whose  \\ncharacter is thus marked by every act which  \\nmay define a Tyrant, is unfit to be the ruler of  \\na free people.  \\nNor have We been wanting in attentions to our', metadata={'source': '../docs/HHRG-117-GO00-20220929-SD010.pdf', 'page': 1}), Document(page_content='character is thus marked by every act which  \\nmay define a Tyrant, is unfit to be the ruler of  \\na free people.  \\nNor have We been wanting in attentions to our  \\nBrittish brethren. We have warned them from  \\ntime to time of attempts by their legislature to  \\nextend an unwarrantable jurisdiction over us.  \\nWe have reminded them of the circumstances of  \\nour emigration and settlement here. We have  \\nappealed to their native justice and magnanim -\\nity, and we have conjured them by the ties of  \\nour common kindred to disavow these usurpa -\\ntions, which, would inevitably interrupt our  \\nconnections and correspondence. They too have  \\nbeen deaf to the voice of justice and of con -\\nsanguinity. We must, therefore, acquiesce in the  \\nnecessity, which denounces our Separation, and  \\nhold them, as we hold the rest of mankind, En -\\nemies in War, in Peace Friends.  \\nWE, THEREFORE , the Representatives of the  \\nUNITED STATES OF AMERICA , in General Congress,  \\nAssembled, appealing to the Supreme Judge of  \\nthe world for the rectitude of our intentions, do,  \\nin the Name, and by Authority of the good Peo -\\nple of these Colonies, solemnly publish and de -\\nclare, That these United Colonies are, and of  \\nRight ought to be F REE AND INDEPENDENT  \\nSTATES ; that they are Absolved from all Alle -\\ngiance to the British Crown, and that all politi -\\ncal connection between them and the State of  \\nGreat Britain, is and ought to be totally dis -\\nsolved; and that as Free and Independent States,  \\nthey have full Power to levy War, conclude  \\nPeace, contract Alliances, establish Commerce,  \\nand to do all other Acts and Things which Inde -\\npendent States may of right do. And for the sup -\\nport of this Declaration, with a firm reliance on  \\nthe protection of divine Providence, we mutu -\\nally pledge to each other our Lives, our For -\\ntunes and our sacred Honor.  \\nJOHN HANCOCK.  \\nNew Hampshire  \\nJOSIAH BARTLETT , MATTHEW THORNTON . \\nWM. WHIPPLE , \\nMassachusetts Bay  \\nSAML. ADAMS , ROBT. TREAT PAINE, \\nJOHNADAMS , ELBRIDGE GERRY . \\nRhode Island  \\nSTEP. HOPKINS , WILLIAM ELLERY . \\nVerDate Aug 31 2005 08:33 Feb 15, 2008 Jkt 040101 PO 00000 Frm 00002 Fmt 5820 Sfmt 5807 Y:\\\\TS\\\\2006MAIN\\\\2006V1.MN\\\\V1PRE4.MN BOB', metadata={'source': '../docs/HHRG-117-GO00-20220929-SD010.pdf', 'page': 1}), Document(page_content='vember asked and obtained the privilege of signing it. Several  \\nwho signed it on the 2d of August were absent when it was adopt -ed on the 4th of July, but, approving of it, they thus signified  \\ntheir approbation.  \\nNOTE.—The proof of this document, as published above, was  \\nread by Mr. Ferdinand Jefferson, the Keeper of the Rolls at the  \\nDepartment of State, at Washington, who compared it with the  \\nfac-simile of the original in his custody. He says: ‘‘In the fac-  \\nsimile, as in the original, the whole instrument runs on without  \\na break, but dashes are mostly inserted. I have, in this copy, fol -\\nlowed the arrangement of paragraphs adopted in the publication  \\nof the Declaration in the newspaper of John Dunlap, and as  \\nprinted by him for the Congress, which printed copy is inserted  \\nin the original Journal of the old Congress. The same paragraphs  \\nare also made by the author, in the original draught preserved  \\nin the Department of State.’’  THE DECLARATION OF INDEPENDENCE—17761 \\nINCONGRESS , JULY4, 1776  \\nThe unanimous Declaration of the thirteen united  \\nStates of America  \\nWHEN in the Course of human events, it be -\\ncomes necessary for one people to dissolve the  \\npolitical bands which have connected them with  \\nanother, and to assume among the powers of the  \\nearth, the separate and equal station to which  \\nthe Laws of Nature and of Nature’s God entitle  \\nthem, a decent respect to the opinions of man -\\nkind requires that they should declare the  \\ncauses which impel them to the separation.  We hold these truths to be self-evident, that  \\nall men are created equal, that they are en -\\ndowed by their Creator with certain unalienable  \\nRights, that among these are Life, Liberty and  \\nthe pursuit of Happiness. That to secure these  \\nrights, Governments are instituted among Men,  \\nderiving their just powers from the consent of  \\nthe governed,—That whenever any Form of Gov -\\nernment becomes destructive of these ends, it is  \\nthe Right of the People to alter or to abolish it,  \\nand to institute new Government, laying its  \\nfoundation on such principles and organizing its  \\npowers in such form, as to them shall seem most  \\nlikely to effect their Safety and Happiness. Pru -\\ndence, indeed, will dictate that Governments  \\nlong established should not be changed for light  \\nand transient causes; and accordingly all experi -\\nence hath shewn, that mankind are more dis -\\nposed to suffer, while evils are sufferable, than  \\nto right themselves by abolishing the forms to  \\nwhich they are accustomed. But when a long  \\ntrain of abuses and usurpations, pursuing invari -\\nably the same Object evinces a design to reduce  \\nthem under absolute Despotism, it is their right,  \\nit is their duty, to throw off such Government,  \\nand to provide new Guards for their future secu -\\nrity.—Such has been the patient sufferance of  \\nthese Colonies; and such is now the necessity  \\nwhich constrains them to alter their former  \\nSystems of Government. The history of the  \\npresent King of Great Britain is a history of re -\\npeated injuries and usurpations, all having in di -\\nrect object the establishment of an absolute  \\nTyranny over these States. To prove this, let  \\nFacts be submitted to a candid world.  \\nHe has refused his Assent to Laws, the most  \\nwholesome and necessary for the public good.  \\nHe has forbidden his Governors to pass Laws of  \\nimmediate and pressing importance, unless sus -\\npended in their operation till his Assent should  \\nbe obtained; and when so suspended, he has ut -\\nterly neglected to attend to them.  \\nHe has refused to pass other Laws for the ac -\\ncommodation of large districts of people, unless  \\nthose people would relinquish the right of Rep -\\nresentation in the Legislature, a right inestima -\\nble to them and formidable to tyrants only.  \\nHe has called together legislative bodies at  \\nplaces unusual, uncomfortable, and distance', metadata={'source': '../docs/HHRG-117-GO00-20220929-SD010.pdf', 'page': 0}), Document(page_content='resentation in the Legislature, a right inestima -\\nble to them and formidable to tyrants only.  \\nHe has called together legislative bodies at  \\nplaces unusual, uncomfortable, and distance  \\nVerDate Aug 31 2005 08:33 Feb 15, 2008 Jkt 040101 PO 00000 Frm 00001 Fmt 5820 Sfmt 5820 Y:\\\\TS\\\\2006MAIN\\\\2006V1.MN\\\\V1PRE4.MN BOB', metadata={'source': '../docs/HHRG-117-GO00-20220929-SD010.pdf', 'page': 0})]}\n"
     ]
    }
   ],
   "source": [
    "query = input(\"Enter query:\")\n",
    "ans = qa({\"query\": query})\n",
    "\n",
    "print(\"\\nCustom-ChatGPT-app answer: \" + ans['result'] + \"\\n\\n\")\n",
    "print(ans)\n"
   ]
  },
  {
   "cell_type": "code",
   "execution_count": 60,
   "id": "2ff1d24e-669f-4fed-9f03-c35db3f3d677",
   "metadata": {},
   "outputs": [
    {
     "name": "stdin",
     "output_type": "stream",
     "text": [
      "Enter query: create question and answer flashcards for 6th grader\n"
     ]
    },
    {
     "name": "stdout",
     "output_type": "stream",
     "text": [
      "\n",
      "Custom-ChatGPT-app answer:  You could make flashcards with questions like: \n",
      "\n",
      "Question: What did the Declaration of Independence state about the rights of all people?\n",
      "Answer: The Declaration of Independence stated that all people are created equal and are given certain unalienable rights, including life, liberty, and the pursuit of happiness.\n",
      "\n",
      "\n",
      "{'query': 'create question and answer flashcards for 6th grader', 'result': ' You could make flashcards with questions like: \\n\\nQuestion: What did the Declaration of Independence state about the rights of all people?\\nAnswer: The Declaration of Independence stated that all people are created equal and are given certain unalienable rights, including life, liberty, and the pursuit of happiness.', 'source_documents': [Document(page_content='Page XLVI THE DECLARATION OF INDEPENDENCE—1776  \\nfrom the depository of their public Records, for  \\nthe sole purpose of fatiguing them into compli -\\nance with his measures.  \\nHe has dissolved Representative Houses re -\\npeatedly, for opposing with manly firmness his  \\ninvasions on the rights of the people.  \\nHe has refused for a long time, after such dis -\\nsolutions, to cause others to be elected; whereby  \\nthe Legislative powers, incapable of Annihila -\\ntion, have returned to the People at large for  \\ntheir exercise; the State remaining in the mean  \\ntime exposed to all the dangers of invasion from  \\nwithout, and convulsions within.  \\nHe has endeavoured to prevent the population  \\nof these States; for that purpose obstructing the  \\nLaws for Naturalization of Foreigners; refusing  \\nto pass others to encourage their migrations  \\nhither, and raising the conditions of new Appro -\\npriations of Lands.  \\nHe has obstructed the Administration of Jus -\\ntice, by refusing his Assent to Laws for estab -\\nlishing Judiciary powers.  \\nHe has made Judges dependent on his Will  \\nalone, for the tenure of their offices, and the  \\namount and payment of their salaries.  \\nHe has erected a multitude of New Offices, and  \\nsent hither swarms of Officers to harass our peo -\\nple, and eat out their substance.  \\nHe has kept among us, in times of peace,  \\nStanding Armies without the Consent of our leg -\\nislatures.  \\nHe has affected to render the Military inde -\\npendent of and superior to the Civil power.  \\nHe has combined with others to subject us to  \\na jurisdiction foreign to our constitution, and  \\nunacknowledged by our laws; giving his Assent  \\nto their acts of pretended Legislation:  \\nFor quartering large bodies of armed troops  \\namong us:  \\nFor protecting them, by a mock Trial, from  \\npunishment for any Murders which they should  \\ncommit on the Inhabitants of these States:  \\nFor cutting off our Trade with all parts of the  \\nworld:  \\nFor imposing Taxes on us without our Con -\\nsent:  \\nFor depriving us in many cases, of the benefits  \\nof Trial by Jury:  \\nFor transporting us beyond Seas to be tried  \\nfor pretended offenses:  \\nFor abolishing the free System of English  \\nLaws in a neighbouring Province, establishing  \\ntherein an Arbitrary government, and enlarging  \\nits Boundaries so as to render it at once an ex -\\nample and fit instrument for introducing the  \\nsame absolute rule into these Colonies:  \\nFor taking away our Charters, abolishing our  \\nmost valuable Laws, and altering fundamentally  \\nthe Forms of our Governments:  \\nFor suspending our own Legislatures, and de -\\nclaring themselves invested with power to legis -\\nlate for us in all cases whatsoever.  \\nHe has abdicated Government here, by declar -\\ning us out of his Protection and waging War  \\nagainst us.  \\nHe has plundered our seas, ravaged our Coasts,  \\nburnt our towns, and destroyed the lives of our  \\npeople.  \\nHe is at this time transporting large Armies of  \\nforeign Mercenaries to compleat the works of  \\ndeath, desolation and tyranny, already begun  with circumstances of Cruelty & perfidy scarce -\\nly paralleled in the most barbarous ages, and to -\\ntally unworthy the Head of a civilized nation.  \\nHe has constrained our fellow Citizens taken  \\nCaptive on the high Seas to bear Arms against  \\ntheir Country, to become the executioners of  \\ntheir friends and Brethren, or to fall themselves  \\nby their Hands.  \\nHe has excited domestic insurrections  \\namongst us, and has endeavoured to bring on the  \\ninhabitants of our frontiers, the merciless In -\\ndian Savages, whose known rule of warfare, is an  \\nundistinguished destruction of all ages, sexes  \\nand conditions.  \\nIn every stage of these Oppressions We have  \\nPetitioned for Redress in the most humble  \\nterms: Our repeated Petitions have been an -\\nswered only by repeated injury. A Prince, whose  \\ncharacter is thus marked by every act which  \\nmay define a Tyrant, is unfit to be the ruler of  \\na free people.  \\nNor have We been wanting in attentions to our', metadata={'source': '../docs/HHRG-117-GO00-20220929-SD010.pdf', 'page': 1}), Document(page_content='resentation in the Legislature, a right inestima -\\nble to them and formidable to tyrants only.  \\nHe has called together legislative bodies at  \\nplaces unusual, uncomfortable, and distance  \\nVerDate Aug 31 2005 08:33 Feb 15, 2008 Jkt 040101 PO 00000 Frm 00001 Fmt 5820 Sfmt 5820 Y:\\\\TS\\\\2006MAIN\\\\2006V1.MN\\\\V1PRE4.MN BOB', metadata={'source': '../docs/HHRG-117-GO00-20220929-SD010.pdf', 'page': 0}), Document(page_content='vember asked and obtained the privilege of signing it. Several  \\nwho signed it on the 2d of August were absent when it was adopt -ed on the 4th of July, but, approving of it, they thus signified  \\ntheir approbation.  \\nNOTE.—The proof of this document, as published above, was  \\nread by Mr. Ferdinand Jefferson, the Keeper of the Rolls at the  \\nDepartment of State, at Washington, who compared it with the  \\nfac-simile of the original in his custody. He says: ‘‘In the fac-  \\nsimile, as in the original, the whole instrument runs on without  \\na break, but dashes are mostly inserted. I have, in this copy, fol -\\nlowed the arrangement of paragraphs adopted in the publication  \\nof the Declaration in the newspaper of John Dunlap, and as  \\nprinted by him for the Congress, which printed copy is inserted  \\nin the original Journal of the old Congress. The same paragraphs  \\nare also made by the author, in the original draught preserved  \\nin the Department of State.’’  THE DECLARATION OF INDEPENDENCE—17761 \\nINCONGRESS , JULY4, 1776  \\nThe unanimous Declaration of the thirteen united  \\nStates of America  \\nWHEN in the Course of human events, it be -\\ncomes necessary for one people to dissolve the  \\npolitical bands which have connected them with  \\nanother, and to assume among the powers of the  \\nearth, the separate and equal station to which  \\nthe Laws of Nature and of Nature’s God entitle  \\nthem, a decent respect to the opinions of man -\\nkind requires that they should declare the  \\ncauses which impel them to the separation.  We hold these truths to be self-evident, that  \\nall men are created equal, that they are en -\\ndowed by their Creator with certain unalienable  \\nRights, that among these are Life, Liberty and  \\nthe pursuit of Happiness. That to secure these  \\nrights, Governments are instituted among Men,  \\nderiving their just powers from the consent of  \\nthe governed,—That whenever any Form of Gov -\\nernment becomes destructive of these ends, it is  \\nthe Right of the People to alter or to abolish it,  \\nand to institute new Government, laying its  \\nfoundation on such principles and organizing its  \\npowers in such form, as to them shall seem most  \\nlikely to effect their Safety and Happiness. Pru -\\ndence, indeed, will dictate that Governments  \\nlong established should not be changed for light  \\nand transient causes; and accordingly all experi -\\nence hath shewn, that mankind are more dis -\\nposed to suffer, while evils are sufferable, than  \\nto right themselves by abolishing the forms to  \\nwhich they are accustomed. But when a long  \\ntrain of abuses and usurpations, pursuing invari -\\nably the same Object evinces a design to reduce  \\nthem under absolute Despotism, it is their right,  \\nit is their duty, to throw off such Government,  \\nand to provide new Guards for their future secu -\\nrity.—Such has been the patient sufferance of  \\nthese Colonies; and such is now the necessity  \\nwhich constrains them to alter their former  \\nSystems of Government. The history of the  \\npresent King of Great Britain is a history of re -\\npeated injuries and usurpations, all having in di -\\nrect object the establishment of an absolute  \\nTyranny over these States. To prove this, let  \\nFacts be submitted to a candid world.  \\nHe has refused his Assent to Laws, the most  \\nwholesome and necessary for the public good.  \\nHe has forbidden his Governors to pass Laws of  \\nimmediate and pressing importance, unless sus -\\npended in their operation till his Assent should  \\nbe obtained; and when so suspended, he has ut -\\nterly neglected to attend to them.  \\nHe has refused to pass other Laws for the ac -\\ncommodation of large districts of people, unless  \\nthose people would relinquish the right of Rep -\\nresentation in the Legislature, a right inestima -\\nble to them and formidable to tyrants only.  \\nHe has called together legislative bodies at  \\nplaces unusual, uncomfortable, and distance', metadata={'source': '../docs/HHRG-117-GO00-20220929-SD010.pdf', 'page': 0}), Document(page_content='Page XLV 1The delegates of the United Colonies of New Hampshire; Mas -\\nsachusetts Bay; Rhode Island and Providence Plantations; Con -\\nnecticut; New York; New Jersey; Pennsylvania; New Castle,  \\nKent, and Sussex, in Delaware; Maryland; Virginia; North Caro -\\nlina, and South Carolina, In Congress assembled at Philadelphia,  \\nResolved on the 10th of May, 1776, to recommend to the respec -\\ntive assemblies and conventions of the United Colonies, where no  \\ngovernment sufficient to the exigencies of their affairs had been  \\nestablished, to adopt such a government as should, in the opin -\\nion of the representatives of the people, best conduce to the hap -\\npiness and safety of their constituents in particular, and of  \\nAmerica in general. A preamble to this resolution, agreed to on  \\nthe 15th of May, stated the intention to be totally to suppress  \\nthe exercise of every kind of authority under the British crown.  \\nOn the 7th of June, certain resolutions respecting independency  \\nwere moved and seconded. On the 10th of June it was resolved,  \\nthat a committee should be appointed to prepare a declaration  \\nto the following effect: ‘‘That the United Colonies are, and of  \\nright ought to be, free and independent States; that they are ab -\\nsolved from all allegiance to the British crown; and that all po -\\nlitical connection between them and the State of Great Britain  \\nis, and ought to be, totally dissolved.’’ On the preceding day it  \\nwas determined that the committee for preparing the declara -\\ntion should consist of five, and they were chosen accordingly, in  \\nthe following order: Mr. Jefferson, Mr. J. Adams, Mr. Franklin,  \\nMr. Sherman, Mr. R. R. Livingston. On the 11th of June a resolu -\\ntion was passed to appoint a committee to prepare and digest  \\nthe form of a confederation to be entered into between the colo -\\nnies, and another committee to prepare a plan of treaties to be  \\nproposed to foreign powers. On the 12th of June, it was resolved,  \\nthat a committee of Congress should be appointed by the name  \\nof a board of war and ordnance, to consist of five members. On  \\nthe 25th of June, a declaration of the deputies of Pennsylvania,  \\nmet in provincial conference, expressing their willingness to  \\nconcur in a vote declaring the United Colonies free and inde -\\npendent States, was laid before Congress and read. On the 28th  \\nof June, the committee appointed to prepare a declaration of  \\nindependence brought in a draught, which was read, and ordered  \\nto lie on the table. On the 1st of July, a resolution of the conven -\\ntion of Maryland, passed the 28th of June, authorizing the depu -\\nties of that colony to concur in declaring the United Colonies  \\nfree and independent States, was laid before Congress and read.  \\nOn the same day Congress resolved itself into a committee of the  \\nwhole, to take into consideration the resolution respecting inde -\\npendency. On the 2d of July, a resolution declaring the colonies  \\nfree and independent States, was adopted. A declaration to that  \\neffect was, on the same and the following days, taken into fur -\\nther consideration. Finally, on the 4th of July, the Declaration  \\nof Independence was agreed to, engrossed on paper, signed by  \\nJohn Hancock as president, and directed to be sent to the sev -\\neral assemblies, conventions, and committees, or councils of  \\nsafety, and to the several commanding officers of the continen -\\ntal troops, and to be proclaimed in each of the United States,  \\nand at the head of the Army. It was also ordered to be entered  \\nupon the Journals of Congress, and on the 2d of August, a copy  \\nengrossed on parchment was signed by all but one of the fifty-  \\nsix signers whose names are appended to it. That one was Mat -\\nthew Thornton, of New Hampshire, who on taking his seat in No -\\nvember asked and obtained the privilege of signing it. Several  \\nwho signed it on the 2d of August were absent when it was adopt -ed on the 4th of July, but, approving of it, they thus signified', metadata={'source': '../docs/HHRG-117-GO00-20220929-SD010.pdf', 'page': 0})]}\n"
     ]
    }
   ],
   "source": [
    "query = input(\"Enter query:\")\n",
    "ans = qa({\"query\": query})\n",
    "\n",
    "print(\"\\nCustom-ChatGPT-app answer: \" + ans['result'] + \"\\n\\n\")\n",
    "print(ans)\n"
   ]
  },
  {
   "cell_type": "code",
   "execution_count": 19,
   "id": "cbc8f831-19e8-436c-9d97-5cfc7a1033fb",
   "metadata": {
    "tags": []
   },
   "outputs": [
    {
     "name": "stdin",
     "output_type": "stream",
     "text": [
      "Enter query: create a flashcard for a 6th grader about the next steps after independence, with a question and an answer\n"
     ]
    },
    {
     "name": "stdout",
     "output_type": "stream",
     "text": [
      "\n",
      "Custom-ChatGPT-app answer: \n",
      "\n",
      "Question: What were the next steps after the Declaration of Independence?\n",
      "Answer: After the Declaration of Independence was signed on July 4th, 1776, the United Colonies formed a committee to prepare a plan of treaties to be proposed to foreign powers, a board of war and ordnance, and a confederation to be entered into between the colonies.\n",
      "\n",
      "\n",
      "{'query': 'create a flashcard for a 6th grader about the next steps after independence, with a question and an answer', 'result': '\\n\\nQuestion: What were the next steps after the Declaration of Independence?\\nAnswer: After the Declaration of Independence was signed on July 4th, 1776, the United Colonies formed a committee to prepare a plan of treaties to be proposed to foreign powers, a board of war and ordnance, and a confederation to be entered into between the colonies.', 'source_documents': [Document(page_content='Page XLV 1The delegates of the United Colonies of New Hampshire; Mas -\\nsachusetts Bay; Rhode Island and Providence Plantations; Con -\\nnecticut; New York; New Jersey; Pennsylvania; New Castle,  \\nKent, and Sussex, in Delaware; Maryland; Virginia; North Caro -\\nlina, and South Carolina, In Congress assembled at Philadelphia,  \\nResolved on the 10th of May, 1776, to recommend to the respec -\\ntive assemblies and conventions of the United Colonies, where no  \\ngovernment sufficient to the exigencies of their affairs had been  \\nestablished, to adopt such a government as should, in the opin -\\nion of the representatives of the people, best conduce to the hap -\\npiness and safety of their constituents in particular, and of  \\nAmerica in general. A preamble to this resolution, agreed to on  \\nthe 15th of May, stated the intention to be totally to suppress  \\nthe exercise of every kind of authority under the British crown.  \\nOn the 7th of June, certain resolutions respecting independency  \\nwere moved and seconded. On the 10th of June it was resolved,  \\nthat a committee should be appointed to prepare a declaration  \\nto the following effect: ‘‘That the United Colonies are, and of  \\nright ought to be, free and independent States; that they are ab -\\nsolved from all allegiance to the British crown; and that all po -\\nlitical connection between them and the State of Great Britain  \\nis, and ought to be, totally dissolved.’’ On the preceding day it  \\nwas determined that the committee for preparing the declara -\\ntion should consist of five, and they were chosen accordingly, in  \\nthe following order: Mr. Jefferson, Mr. J. Adams, Mr. Franklin,  \\nMr. Sherman, Mr. R. R. Livingston. On the 11th of June a resolu -\\ntion was passed to appoint a committee to prepare and digest  \\nthe form of a confederation to be entered into between the colo -\\nnies, and another committee to prepare a plan of treaties to be  \\nproposed to foreign powers. On the 12th of June, it was resolved,  \\nthat a committee of Congress should be appointed by the name  \\nof a board of war and ordnance, to consist of five members. On  \\nthe 25th of June, a declaration of the deputies of Pennsylvania,  \\nmet in provincial conference, expressing their willingness to  \\nconcur in a vote declaring the United Colonies free and inde -\\npendent States, was laid before Congress and read. On the 28th  \\nof June, the committee appointed to prepare a declaration of  \\nindependence brought in a draught, which was read, and ordered  \\nto lie on the table. On the 1st of July, a resolution of the conven -\\ntion of Maryland, passed the 28th of June, authorizing the depu -\\nties of that colony to concur in declaring the United Colonies  \\nfree and independent States, was laid before Congress and read.  \\nOn the same day Congress resolved itself into a committee of the  \\nwhole, to take into consideration the resolution respecting inde -\\npendency. On the 2d of July, a resolution declaring the colonies  \\nfree and independent States, was adopted. A declaration to that  \\neffect was, on the same and the following days, taken into fur -\\nther consideration. Finally, on the 4th of July, the Declaration  \\nof Independence was agreed to, engrossed on paper, signed by  \\nJohn Hancock as president, and directed to be sent to the sev -\\neral assemblies, conventions, and committees, or councils of  \\nsafety, and to the several commanding officers of the continen -\\ntal troops, and to be proclaimed in each of the United States,  \\nand at the head of the Army. It was also ordered to be entered  \\nupon the Journals of Congress, and on the 2d of August, a copy  \\nengrossed on parchment was signed by all but one of the fifty-  \\nsix signers whose names are appended to it. That one was Mat -\\nthew Thornton, of New Hampshire, who on taking his seat in No -\\nvember asked and obtained the privilege of signing it. Several  \\nwho signed it on the 2d of August were absent when it was adopt -ed on the 4th of July, but, approving of it, they thus signified', metadata={'source': '../docs/HHRG-117-GO00-20220929-SD010.pdf', 'page': 0}), Document(page_content='Page XLVI THE DECLARATION OF INDEPENDENCE—1776  \\nfrom the depository of their public Records, for  \\nthe sole purpose of fatiguing them into compli -\\nance with his measures.  \\nHe has dissolved Representative Houses re -\\npeatedly, for opposing with manly firmness his  \\ninvasions on the rights of the people.  \\nHe has refused for a long time, after such dis -\\nsolutions, to cause others to be elected; whereby  \\nthe Legislative powers, incapable of Annihila -\\ntion, have returned to the People at large for  \\ntheir exercise; the State remaining in the mean  \\ntime exposed to all the dangers of invasion from  \\nwithout, and convulsions within.  \\nHe has endeavoured to prevent the population  \\nof these States; for that purpose obstructing the  \\nLaws for Naturalization of Foreigners; refusing  \\nto pass others to encourage their migrations  \\nhither, and raising the conditions of new Appro -\\npriations of Lands.  \\nHe has obstructed the Administration of Jus -\\ntice, by refusing his Assent to Laws for estab -\\nlishing Judiciary powers.  \\nHe has made Judges dependent on his Will  \\nalone, for the tenure of their offices, and the  \\namount and payment of their salaries.  \\nHe has erected a multitude of New Offices, and  \\nsent hither swarms of Officers to harass our peo -\\nple, and eat out their substance.  \\nHe has kept among us, in times of peace,  \\nStanding Armies without the Consent of our leg -\\nislatures.  \\nHe has affected to render the Military inde -\\npendent of and superior to the Civil power.  \\nHe has combined with others to subject us to  \\na jurisdiction foreign to our constitution, and  \\nunacknowledged by our laws; giving his Assent  \\nto their acts of pretended Legislation:  \\nFor quartering large bodies of armed troops  \\namong us:  \\nFor protecting them, by a mock Trial, from  \\npunishment for any Murders which they should  \\ncommit on the Inhabitants of these States:  \\nFor cutting off our Trade with all parts of the  \\nworld:  \\nFor imposing Taxes on us without our Con -\\nsent:  \\nFor depriving us in many cases, of the benefits  \\nof Trial by Jury:  \\nFor transporting us beyond Seas to be tried  \\nfor pretended offenses:  \\nFor abolishing the free System of English  \\nLaws in a neighbouring Province, establishing  \\ntherein an Arbitrary government, and enlarging  \\nits Boundaries so as to render it at once an ex -\\nample and fit instrument for introducing the  \\nsame absolute rule into these Colonies:  \\nFor taking away our Charters, abolishing our  \\nmost valuable Laws, and altering fundamentally  \\nthe Forms of our Governments:  \\nFor suspending our own Legislatures, and de -\\nclaring themselves invested with power to legis -\\nlate for us in all cases whatsoever.  \\nHe has abdicated Government here, by declar -\\ning us out of his Protection and waging War  \\nagainst us.  \\nHe has plundered our seas, ravaged our Coasts,  \\nburnt our towns, and destroyed the lives of our  \\npeople.  \\nHe is at this time transporting large Armies of  \\nforeign Mercenaries to compleat the works of  \\ndeath, desolation and tyranny, already begun  with circumstances of Cruelty & perfidy scarce -\\nly paralleled in the most barbarous ages, and to -\\ntally unworthy the Head of a civilized nation.  \\nHe has constrained our fellow Citizens taken  \\nCaptive on the high Seas to bear Arms against  \\ntheir Country, to become the executioners of  \\ntheir friends and Brethren, or to fall themselves  \\nby their Hands.  \\nHe has excited domestic insurrections  \\namongst us, and has endeavoured to bring on the  \\ninhabitants of our frontiers, the merciless In -\\ndian Savages, whose known rule of warfare, is an  \\nundistinguished destruction of all ages, sexes  \\nand conditions.  \\nIn every stage of these Oppressions We have  \\nPetitioned for Redress in the most humble  \\nterms: Our repeated Petitions have been an -\\nswered only by repeated injury. A Prince, whose  \\ncharacter is thus marked by every act which  \\nmay define a Tyrant, is unfit to be the ruler of  \\na free people.  \\nNor have We been wanting in attentions to our', metadata={'source': '../docs/HHRG-117-GO00-20220929-SD010.pdf', 'page': 1}), Document(page_content='vember asked and obtained the privilege of signing it. Several  \\nwho signed it on the 2d of August were absent when it was adopt -ed on the 4th of July, but, approving of it, they thus signified  \\ntheir approbation.  \\nNOTE.—The proof of this document, as published above, was  \\nread by Mr. Ferdinand Jefferson, the Keeper of the Rolls at the  \\nDepartment of State, at Washington, who compared it with the  \\nfac-simile of the original in his custody. He says: ‘‘In the fac-  \\nsimile, as in the original, the whole instrument runs on without  \\na break, but dashes are mostly inserted. I have, in this copy, fol -\\nlowed the arrangement of paragraphs adopted in the publication  \\nof the Declaration in the newspaper of John Dunlap, and as  \\nprinted by him for the Congress, which printed copy is inserted  \\nin the original Journal of the old Congress. The same paragraphs  \\nare also made by the author, in the original draught preserved  \\nin the Department of State.’’  THE DECLARATION OF INDEPENDENCE—17761 \\nINCONGRESS , JULY4, 1776  \\nThe unanimous Declaration of the thirteen united  \\nStates of America  \\nWHEN in the Course of human events, it be -\\ncomes necessary for one people to dissolve the  \\npolitical bands which have connected them with  \\nanother, and to assume among the powers of the  \\nearth, the separate and equal station to which  \\nthe Laws of Nature and of Nature’s God entitle  \\nthem, a decent respect to the opinions of man -\\nkind requires that they should declare the  \\ncauses which impel them to the separation.  We hold these truths to be self-evident, that  \\nall men are created equal, that they are en -\\ndowed by their Creator with certain unalienable  \\nRights, that among these are Life, Liberty and  \\nthe pursuit of Happiness. That to secure these  \\nrights, Governments are instituted among Men,  \\nderiving their just powers from the consent of  \\nthe governed,—That whenever any Form of Gov -\\nernment becomes destructive of these ends, it is  \\nthe Right of the People to alter or to abolish it,  \\nand to institute new Government, laying its  \\nfoundation on such principles and organizing its  \\npowers in such form, as to them shall seem most  \\nlikely to effect their Safety and Happiness. Pru -\\ndence, indeed, will dictate that Governments  \\nlong established should not be changed for light  \\nand transient causes; and accordingly all experi -\\nence hath shewn, that mankind are more dis -\\nposed to suffer, while evils are sufferable, than  \\nto right themselves by abolishing the forms to  \\nwhich they are accustomed. But when a long  \\ntrain of abuses and usurpations, pursuing invari -\\nably the same Object evinces a design to reduce  \\nthem under absolute Despotism, it is their right,  \\nit is their duty, to throw off such Government,  \\nand to provide new Guards for their future secu -\\nrity.—Such has been the patient sufferance of  \\nthese Colonies; and such is now the necessity  \\nwhich constrains them to alter their former  \\nSystems of Government. The history of the  \\npresent King of Great Britain is a history of re -\\npeated injuries and usurpations, all having in di -\\nrect object the establishment of an absolute  \\nTyranny over these States. To prove this, let  \\nFacts be submitted to a candid world.  \\nHe has refused his Assent to Laws, the most  \\nwholesome and necessary for the public good.  \\nHe has forbidden his Governors to pass Laws of  \\nimmediate and pressing importance, unless sus -\\npended in their operation till his Assent should  \\nbe obtained; and when so suspended, he has ut -\\nterly neglected to attend to them.  \\nHe has refused to pass other Laws for the ac -\\ncommodation of large districts of people, unless  \\nthose people would relinquish the right of Rep -\\nresentation in the Legislature, a right inestima -\\nble to them and formidable to tyrants only.  \\nHe has called together legislative bodies at  \\nplaces unusual, uncomfortable, and distance', metadata={'source': '../docs/HHRG-117-GO00-20220929-SD010.pdf', 'page': 0}), Document(page_content='character is thus marked by every act which  \\nmay define a Tyrant, is unfit to be the ruler of  \\na free people.  \\nNor have We been wanting in attentions to our  \\nBrittish brethren. We have warned them from  \\ntime to time of attempts by their legislature to  \\nextend an unwarrantable jurisdiction over us.  \\nWe have reminded them of the circumstances of  \\nour emigration and settlement here. We have  \\nappealed to their native justice and magnanim -\\nity, and we have conjured them by the ties of  \\nour common kindred to disavow these usurpa -\\ntions, which, would inevitably interrupt our  \\nconnections and correspondence. They too have  \\nbeen deaf to the voice of justice and of con -\\nsanguinity. We must, therefore, acquiesce in the  \\nnecessity, which denounces our Separation, and  \\nhold them, as we hold the rest of mankind, En -\\nemies in War, in Peace Friends.  \\nWE, THEREFORE , the Representatives of the  \\nUNITED STATES OF AMERICA , in General Congress,  \\nAssembled, appealing to the Supreme Judge of  \\nthe world for the rectitude of our intentions, do,  \\nin the Name, and by Authority of the good Peo -\\nple of these Colonies, solemnly publish and de -\\nclare, That these United Colonies are, and of  \\nRight ought to be F REE AND INDEPENDENT  \\nSTATES ; that they are Absolved from all Alle -\\ngiance to the British Crown, and that all politi -\\ncal connection between them and the State of  \\nGreat Britain, is and ought to be totally dis -\\nsolved; and that as Free and Independent States,  \\nthey have full Power to levy War, conclude  \\nPeace, contract Alliances, establish Commerce,  \\nand to do all other Acts and Things which Inde -\\npendent States may of right do. And for the sup -\\nport of this Declaration, with a firm reliance on  \\nthe protection of divine Providence, we mutu -\\nally pledge to each other our Lives, our For -\\ntunes and our sacred Honor.  \\nJOHN HANCOCK.  \\nNew Hampshire  \\nJOSIAH BARTLETT , MATTHEW THORNTON . \\nWM. WHIPPLE , \\nMassachusetts Bay  \\nSAML. ADAMS , ROBT. TREAT PAINE, \\nJOHNADAMS , ELBRIDGE GERRY . \\nRhode Island  \\nSTEP. HOPKINS , WILLIAM ELLERY . \\nVerDate Aug 31 2005 08:33 Feb 15, 2008 Jkt 040101 PO 00000 Frm 00002 Fmt 5820 Sfmt 5807 Y:\\\\TS\\\\2006MAIN\\\\2006V1.MN\\\\V1PRE4.MN BOB', metadata={'source': '../docs/HHRG-117-GO00-20220929-SD010.pdf', 'page': 1})]}\n"
     ]
    }
   ],
   "source": [
    "query = input(\"Enter query:\")\n",
    "ans = qa({\"query\": query})\n",
    "\n",
    "print(\"\\nCustom-ChatGPT-app answer: \" + ans['result'] + \"\\n\\n\")\n",
    "print(ans)\n"
   ]
  },
  {
   "cell_type": "code",
   "execution_count": null,
   "id": "af8f8de8-2ced-4b92-9669-7e52101135be",
   "metadata": {},
   "outputs": [],
   "source": [
    "query = input(\"Enter query:\")\n",
    "ans = qa({\"query\": query})\n",
    "\n",
    "print(\"\\nCustom-ChatGPT-app answer: \" + ans['result'] + \"\\n\\n\")\n",
    "print(ans)\n"
   ]
  }
 ],
 "metadata": {
  "kernelspec": {
   "display_name": "Python 3 (ipykernel)",
   "language": "python",
   "name": "python3"
  },
  "language_info": {
   "codemirror_mode": {
    "name": "ipython",
    "version": 3
   },
   "file_extension": ".py",
   "mimetype": "text/x-python",
   "name": "python",
   "nbconvert_exporter": "python",
   "pygments_lexer": "ipython3",
   "version": "3.8.13"
  }
 },
 "nbformat": 4,
 "nbformat_minor": 5
}
