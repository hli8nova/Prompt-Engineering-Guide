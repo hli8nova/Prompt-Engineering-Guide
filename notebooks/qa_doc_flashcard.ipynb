{
 "cells": [
  {
   "cell_type": "code",
   "execution_count": 1,
   "id": "f45df329-61b9-4d39-881e-9cda603fd73a",
   "metadata": {
    "collapsed": true,
    "jupyter": {
     "outputs_hidden": true
    },
    "tags": []
   },
   "outputs": [
    {
     "name": "stdout",
     "output_type": "stream",
     "text": [
      "Requirement already satisfied: langchain in /home/will/miniconda3/envs/pyopenai/lib/python3.8/site-packages (0.0.166)\n",
      "Requirement already satisfied: deeplake in /home/will/miniconda3/envs/pyopenai/lib/python3.8/site-packages (3.4.1)\n",
      "Requirement already satisfied: openai in /home/will/miniconda3/envs/pyopenai/lib/python3.8/site-packages (0.27.6)\n",
      "Requirement already satisfied: tiktoken in /home/will/miniconda3/envs/pyopenai/lib/python3.8/site-packages (0.4.0)\n",
      "Requirement already satisfied: PyYAML>=5.4.1 in /home/will/miniconda3/envs/pyopenai/lib/python3.8/site-packages (from langchain) (6.0)\n",
      "Requirement already satisfied: requests<3,>=2 in /home/will/miniconda3/envs/pyopenai/lib/python3.8/site-packages (from langchain) (2.30.0)\n",
      "Requirement already satisfied: openapi-schema-pydantic<2.0,>=1.2 in /home/will/miniconda3/envs/pyopenai/lib/python3.8/site-packages (from langchain) (1.2.4)\n",
      "Requirement already satisfied: aiohttp<4.0.0,>=3.8.3 in /home/will/miniconda3/envs/pyopenai/lib/python3.8/site-packages (from langchain) (3.8.4)\n",
      "Requirement already satisfied: SQLAlchemy<3,>=1.4 in /home/will/miniconda3/envs/pyopenai/lib/python3.8/site-packages (from langchain) (2.0.13)\n",
      "Requirement already satisfied: async-timeout<5.0.0,>=4.0.0 in /home/will/miniconda3/envs/pyopenai/lib/python3.8/site-packages (from langchain) (4.0.2)\n",
      "Requirement already satisfied: numexpr<3.0.0,>=2.8.4 in /home/will/miniconda3/envs/pyopenai/lib/python3.8/site-packages (from langchain) (2.8.4)\n",
      "Requirement already satisfied: tenacity<9.0.0,>=8.1.0 in /home/will/miniconda3/envs/pyopenai/lib/python3.8/site-packages (from langchain) (8.2.2)\n",
      "Requirement already satisfied: numpy<2,>=1 in /home/will/miniconda3/envs/pyopenai/lib/python3.8/site-packages (from langchain) (1.22.3)\n",
      "Requirement already satisfied: tqdm>=4.48.0 in /home/will/miniconda3/envs/pyopenai/lib/python3.8/site-packages (from langchain) (4.65.0)\n",
      "Requirement already satisfied: dataclasses-json<0.6.0,>=0.5.7 in /home/will/miniconda3/envs/pyopenai/lib/python3.8/site-packages (from langchain) (0.5.7)\n",
      "Requirement already satisfied: pydantic<2,>=1 in /home/will/miniconda3/envs/pyopenai/lib/python3.8/site-packages (from langchain) (1.10.7)\n",
      "Requirement already satisfied: aioboto3>=10.4.0 in /home/will/miniconda3/envs/pyopenai/lib/python3.8/site-packages (from deeplake) (11.2.0)\n",
      "Requirement already satisfied: pathos in /home/will/miniconda3/envs/pyopenai/lib/python3.8/site-packages (from deeplake) (0.3.0)\n",
      "Requirement already satisfied: boto3 in /home/will/miniconda3/envs/pyopenai/lib/python3.8/site-packages (from deeplake) (1.26.76)\n",
      "Requirement already satisfied: pyjwt in /home/will/miniconda3/envs/pyopenai/lib/python3.8/site-packages (from deeplake) (2.7.0)\n",
      "Requirement already satisfied: click in /home/will/miniconda3/envs/pyopenai/lib/python3.8/site-packages (from deeplake) (8.1.3)\n",
      "Requirement already satisfied: nest-asyncio in /home/will/miniconda3/envs/pyopenai/lib/python3.8/site-packages (from deeplake) (1.5.1)\n",
      "Requirement already satisfied: pillow in /home/will/miniconda3/envs/pyopenai/lib/python3.8/site-packages (from deeplake) (9.1.0)\n",
      "Requirement already satisfied: humbug>=0.3.1 in /home/will/miniconda3/envs/pyopenai/lib/python3.8/site-packages (from deeplake) (0.3.1)\n",
      "Requirement already satisfied: numcodecs in /home/will/miniconda3/envs/pyopenai/lib/python3.8/site-packages (from deeplake) (0.11.0)\n",
      "Requirement already satisfied: regex>=2022.1.18 in /home/will/miniconda3/envs/pyopenai/lib/python3.8/site-packages (from tiktoken) (2023.5.5)\n",
      "Requirement already satisfied: aiobotocore[boto3]==2.5.0 in /home/will/miniconda3/envs/pyopenai/lib/python3.8/site-packages (from aioboto3>=10.4.0->deeplake) (2.5.0)\n",
      "Requirement already satisfied: aioitertools>=0.5.1 in /home/will/miniconda3/envs/pyopenai/lib/python3.8/site-packages (from aiobotocore[boto3]==2.5.0->aioboto3>=10.4.0->deeplake) (0.11.0)\n",
      "Requirement already satisfied: botocore<1.29.77,>=1.29.76 in /home/will/miniconda3/envs/pyopenai/lib/python3.8/site-packages (from aiobotocore[boto3]==2.5.0->aioboto3>=10.4.0->deeplake) (1.29.76)\n",
      "Requirement already satisfied: wrapt>=1.10.10 in /home/will/miniconda3/envs/pyopenai/lib/python3.8/site-packages (from aiobotocore[boto3]==2.5.0->aioboto3>=10.4.0->deeplake) (1.15.0)\n",
      "Requirement already satisfied: charset-normalizer<4.0,>=2.0 in /home/will/miniconda3/envs/pyopenai/lib/python3.8/site-packages (from aiohttp<4.0.0,>=3.8.3->langchain) (2.0.4)\n",
      "Requirement already satisfied: yarl<2.0,>=1.0 in /home/will/miniconda3/envs/pyopenai/lib/python3.8/site-packages (from aiohttp<4.0.0,>=3.8.3->langchain) (1.9.2)\n",
      "Requirement already satisfied: attrs>=17.3.0 in /home/will/miniconda3/envs/pyopenai/lib/python3.8/site-packages (from aiohttp<4.0.0,>=3.8.3->langchain) (21.4.0)\n",
      "Requirement already satisfied: multidict<7.0,>=4.5 in /home/will/miniconda3/envs/pyopenai/lib/python3.8/site-packages (from aiohttp<4.0.0,>=3.8.3->langchain) (6.0.4)\n",
      "Requirement already satisfied: aiosignal>=1.1.2 in /home/will/miniconda3/envs/pyopenai/lib/python3.8/site-packages (from aiohttp<4.0.0,>=3.8.3->langchain) (1.3.1)\n",
      "Requirement already satisfied: frozenlist>=1.1.1 in /home/will/miniconda3/envs/pyopenai/lib/python3.8/site-packages (from aiohttp<4.0.0,>=3.8.3->langchain) (1.3.3)\n",
      "Requirement already satisfied: typing_extensions>=4.0 in /home/will/miniconda3/envs/pyopenai/lib/python3.8/site-packages (from aioitertools>=0.5.1->aiobotocore[boto3]==2.5.0->aioboto3>=10.4.0->deeplake) (4.5.0)\n",
      "Requirement already satisfied: jmespath<2.0.0,>=0.7.1 in /home/will/miniconda3/envs/pyopenai/lib/python3.8/site-packages (from boto3->deeplake) (1.0.1)\n",
      "Requirement already satisfied: s3transfer<0.7.0,>=0.6.0 in /home/will/miniconda3/envs/pyopenai/lib/python3.8/site-packages (from boto3->deeplake) (0.6.1)\n",
      "Requirement already satisfied: python-dateutil<3.0.0,>=2.1 in /home/will/miniconda3/envs/pyopenai/lib/python3.8/site-packages (from botocore<1.29.77,>=1.29.76->aiobotocore[boto3]==2.5.0->aioboto3>=10.4.0->deeplake) (2.8.2)\n",
      "Requirement already satisfied: urllib3<1.27,>=1.25.4 in /home/will/miniconda3/envs/pyopenai/lib/python3.8/site-packages (from botocore<1.29.77,>=1.29.76->aiobotocore[boto3]==2.5.0->aioboto3>=10.4.0->deeplake) (1.26.8)\n",
      "Requirement already satisfied: marshmallow-enum<2.0.0,>=1.5.1 in /home/will/miniconda3/envs/pyopenai/lib/python3.8/site-packages (from dataclasses-json<0.6.0,>=0.5.7->langchain) (1.5.1)\n",
      "Requirement already satisfied: marshmallow<4.0.0,>=3.3.0 in /home/will/miniconda3/envs/pyopenai/lib/python3.8/site-packages (from dataclasses-json<0.6.0,>=0.5.7->langchain) (3.19.0)\n",
      "Requirement already satisfied: typing-inspect>=0.4.0 in /home/will/miniconda3/envs/pyopenai/lib/python3.8/site-packages (from dataclasses-json<0.6.0,>=0.5.7->langchain) (0.8.0)\n",
      "Requirement already satisfied: packaging>=17.0 in /home/will/miniconda3/envs/pyopenai/lib/python3.8/site-packages (from marshmallow<4.0.0,>=3.3.0->dataclasses-json<0.6.0,>=0.5.7->langchain) (21.3)\n",
      "Requirement already satisfied: pyparsing!=3.0.5,>=2.0.2 in /home/will/miniconda3/envs/pyopenai/lib/python3.8/site-packages (from packaging>=17.0->marshmallow<4.0.0,>=3.3.0->dataclasses-json<0.6.0,>=0.5.7->langchain) (3.0.4)\n",
      "Requirement already satisfied: six>=1.5 in /home/will/miniconda3/envs/pyopenai/lib/python3.8/site-packages (from python-dateutil<3.0.0,>=2.1->botocore<1.29.77,>=1.29.76->aiobotocore[boto3]==2.5.0->aioboto3>=10.4.0->deeplake) (1.16.0)\n",
      "Requirement already satisfied: certifi>=2017.4.17 in /home/will/miniconda3/envs/pyopenai/lib/python3.8/site-packages (from requests<3,>=2->langchain) (2021.10.8)\n",
      "Requirement already satisfied: idna<4,>=2.5 in /home/will/miniconda3/envs/pyopenai/lib/python3.8/site-packages (from requests<3,>=2->langchain) (3.3)\n",
      "Requirement already satisfied: greenlet!=0.4.17 in /home/will/miniconda3/envs/pyopenai/lib/python3.8/site-packages (from SQLAlchemy<3,>=1.4->langchain) (2.0.2)\n",
      "Requirement already satisfied: mypy-extensions>=0.3.0 in /home/will/miniconda3/envs/pyopenai/lib/python3.8/site-packages (from typing-inspect>=0.4.0->dataclasses-json<0.6.0,>=0.5.7->langchain) (1.0.0)\n",
      "Requirement already satisfied: entrypoints in /home/will/miniconda3/envs/pyopenai/lib/python3.8/site-packages (from numcodecs->deeplake) (0.3)\n",
      "Requirement already satisfied: multiprocess>=0.70.14 in /home/will/miniconda3/envs/pyopenai/lib/python3.8/site-packages (from pathos->deeplake) (0.70.14)\n",
      "Requirement already satisfied: pox>=0.3.2 in /home/will/miniconda3/envs/pyopenai/lib/python3.8/site-packages (from pathos->deeplake) (0.3.2)\n",
      "Requirement already satisfied: dill>=0.3.6 in /home/will/miniconda3/envs/pyopenai/lib/python3.8/site-packages (from pathos->deeplake) (0.3.6)\n",
      "Requirement already satisfied: ppft>=1.7.6.6 in /home/will/miniconda3/envs/pyopenai/lib/python3.8/site-packages (from pathos->deeplake) (1.7.6.6)\n"
     ]
    }
   ],
   "source": [
    "# !python3 -m pip install --upgrade langchain deeplake openai tiktoken"
   ]
  },
  {
   "cell_type": "code",
   "execution_count": 1,
   "id": "97d7d374-7e92-44da-9b8e-fcb72eadc228",
   "metadata": {},
   "outputs": [],
   "source": [
    "import os\n",
    "import getpass\n",
    "from langchain.document_loaders import PyPDFLoader, TextLoader\n",
    "from langchain.embeddings.openai import OpenAIEmbeddings\n",
    "from langchain.text_splitter import RecursiveCharacterTextSplitter, CharacterTextSplitter\n",
    "from langchain.vectorstores import DeepLake\n",
    "from langchain.chains import ConversationalRetrievalChain, RetrievalQA\n",
    "from langchain.chat_models import ChatOpenAI\n",
    "from langchain.llms import OpenAI"
   ]
  },
  {
   "cell_type": "code",
   "execution_count": 2,
   "id": "15bad25e-00ff-4d84-86d3-7cbc4e80e89a",
   "metadata": {},
   "outputs": [],
   "source": [
    "import openai\n",
    "import os\n",
    "import IPython\n",
    "from dotenv import load_dotenv\n",
    "load_dotenv()\n",
    "openai.api_key = os.getenv(\"OPENAI_API_KEY\")"
   ]
  },
  {
   "cell_type": "code",
   "execution_count": 3,
   "id": "1b1f8d1b-fd58-441d-906a-2bd68cbe162d",
   "metadata": {},
   "outputs": [
    {
     "name": "stdout",
     "output_type": "stream",
     "text": [
      "hub://will-nova/data\n"
     ]
    }
   ],
   "source": [
    "ACTIVELOOP_TOKEN = os.getenv('ACTIVELOOP_TOKEN')\n",
    "org = os.getenv('ACTIVELOOP_ORG')\n",
    "\n",
    "embeddings = OpenAIEmbeddings()\n",
    "\n",
    "dataset_path = 'hub://' + org + '/data'\n",
    "print(dataset_path)"
   ]
  },
  {
   "cell_type": "code",
   "execution_count": 16,
   "id": "5f7b4fb3-ba5b-4008-a2b4-5fe6b6147214",
   "metadata": {},
   "outputs": [],
   "source": [
    "my_contract = \"../declaration_of_independence.txt\""
   ]
  },
  {
   "cell_type": "code",
   "execution_count": 18,
   "id": "cda06876-d211-46a5-b537-2d7d8263aabc",
   "metadata": {
    "tags": []
   },
   "outputs": [
    {
     "name": "stdout",
     "output_type": "stream",
     "text": [
      "[Document(page_content='In Congress, July 4, 1776', metadata={}), Document(page_content='The unanimous Declaration of the thirteen united States of America, When in the Course of human events, it becomes necessary for one people to dissolve the political bands which have connected them with another, and to assume among the powers of the', metadata={}), Document(page_content=\"the political bands which have connected them with another, and to assume among the powers of the earth, the separate and equal station to which the Laws of Nature and of Nature's God entitle them, a decent respect to the opinions of mankind requires\", metadata={}), Document(page_content=\"of Nature and of Nature's God entitle them, a decent respect to the opinions of mankind requires that they should declare the causes which impel them to the separation.\", metadata={}), Document(page_content='We hold these truths to be self-evident, that all men are created equal, that they are endowed by their Creator with certain unalienable Rights, that among these are Life, Liberty and the pursuit of Happiness.--That to secure these rights,', metadata={}), Document(page_content='that among these are Life, Liberty and the pursuit of Happiness.--That to secure these rights, Governments are instituted among Men, deriving their just powers from the consent of the governed, --That whenever any Form of Government becomes', metadata={}), Document(page_content='their just powers from the consent of the governed, --That whenever any Form of Government becomes destructive of these ends, it is the Right of the People to alter or to abolish it, and to institute new Government, laying its foundation on such', metadata={}), Document(page_content='the People to alter or to abolish it, and to institute new Government, laying its foundation on such principles and organizing its powers in such form, as to them shall seem most likely to effect their Safety and Happiness. Prudence, indeed, will', metadata={}), Document(page_content='form, as to them shall seem most likely to effect their Safety and Happiness. Prudence, indeed, will dictate that Governments long established should not be changed for light and transient causes; and accordingly all experience hath shewn, that', metadata={}), Document(page_content='not be changed for light and transient causes; and accordingly all experience hath shewn, that mankind are more disposed to suffer, while evils are sufferable, than to right themselves by abolishing the forms to which they are accustomed. But when a', metadata={}), Document(page_content='than to right themselves by abolishing the forms to which they are accustomed. But when a long train of abuses and usurpations, pursuing invariably the same Object evinces a design to reduce them under absolute Despotism, it is their right, it is', metadata={}), Document(page_content='the same Object evinces a design to reduce them under absolute Despotism, it is their right, it is their duty, to throw off such Government, and to provide new Guards for their future security.--Such has been the patient sufferance of these Colonies;', metadata={}), Document(page_content='new Guards for their future security.--Such has been the patient sufferance of these Colonies; and such is now the necessity which constrains them to alter their former Systems of Government. The history of the present King of Great Britain is a', metadata={}), Document(page_content='to alter their former Systems of Government. The history of the present King of Great Britain is a history of repeated injuries and usurpations, all having in direct object the establishment of an absolute Tyranny over these States. To prove this,', metadata={}), Document(page_content='having in direct object the establishment of an absolute Tyranny over these States. To prove this, let Facts be submitted to a candid world.', metadata={}), Document(page_content='He has refused his Assent to Laws, the most wholesome and necessary for the public good.', metadata={}), Document(page_content='He has forbidden his Governors to pass Laws of immediate and pressing importance, unless suspended in their operation till his Assent should be obtained; and when so suspended, he has utterly neglected to attend to them.', metadata={}), Document(page_content='He has refused to pass other Laws for the accommodation of large districts of people, unless those people would relinquish the right of Representation in the Legislature, a right inestimable to them and formidable to tyrants only.', metadata={}), Document(page_content='He has called together legislative bodies at places unusual, uncomfortable, and distant from the depository of their public Records, for the sole purpose of fatiguing them into compliance with his measures.', metadata={}), Document(page_content='He has dissolved Representative Houses repeatedly, for opposing with manly firmness his invasions on the rights of the people.', metadata={}), Document(page_content='He has refused for a long time, after such dissolutions, to cause others to be elected; whereby the Legislative powers, incapable of Annihilation, have returned to the People at large for their exercise; the State remaining in the mean time exposed', metadata={}), Document(page_content='returned to the People at large for their exercise; the State remaining in the mean time exposed to all the dangers of invasion from without, and convulsions within.', metadata={}), Document(page_content='He has endeavoured to prevent the population of these States; for that purpose obstructing the Laws for Naturalization of Foreigners; refusing to pass others to encourage their migrations hither, and raising the conditions of new Appropriations of', metadata={}), Document(page_content='others to encourage their migrations hither, and raising the conditions of new Appropriations of Lands.', metadata={}), Document(page_content='He has obstructed the Administration of Justice, by refusing his Assent to Laws for establishing Judiciary powers.\\n\\nHe has made Judges dependent on his Will alone, for the tenure of their offices, and the amount and payment of their salaries.', metadata={}), Document(page_content='He has erected a multitude of New Offices, and sent hither swarms of Officers to harrass our people, and eat out their substance.\\n\\nHe has kept among us, in times of peace, Standing Armies without the Consent of our legislatures.', metadata={}), Document(page_content='He has kept among us, in times of peace, Standing Armies without the Consent of our legislatures.\\n\\nHe has affected to render the Military independent of and superior to the Civil power.', metadata={}), Document(page_content='He has combined with others to subject us to a jurisdiction foreign to our constitution, and unacknowledged by our laws; giving his Assent to their Acts of pretended Legislation:\\n\\nFor Quartering large bodies of armed troops among us:', metadata={}), Document(page_content='For Quartering large bodies of armed troops among us:\\n\\nFor protecting them, by a mock Trial, from punishment for any Murders which they should commit on the Inhabitants of these States:\\n\\nFor cutting off our Trade with all parts of the world:', metadata={}), Document(page_content='For cutting off our Trade with all parts of the world:\\n\\nFor imposing Taxes on us without our Consent:\\n\\nFor depriving us in many cases, of the benefits of Trial by Jury:\\n\\nFor transporting us beyond Seas to be tried for pretended offences', metadata={}), Document(page_content='For abolishing the free System of English Laws in a neighbouring Province, establishing therein an Arbitrary government, and enlarging its Boundaries so as to render it at once an example and fit instrument for introducing the same absolute rule into', metadata={}), Document(page_content='so as to render it at once an example and fit instrument for introducing the same absolute rule into these Colonies:', metadata={}), Document(page_content='For taking away our Charters, abolishing our most valuable Laws, and altering fundamentally the Forms of our Governments:\\n\\nFor suspending our own Legislatures, and declaring themselves invested with power to legislate for us in all cases whatsoever.', metadata={}), Document(page_content='He has abdicated Government here, by declaring us out of his Protection and waging War against us.\\n\\nHe has plundered our seas, ravaged our Coasts, burnt our towns, and destroyed the lives of our people.', metadata={}), Document(page_content='He is at this time transporting large Armies of foreign Mercenaries to compleat the works of death, desolation and tyranny, already begun with circumstances of Cruelty & perfidy scarcely paralleled in the most barbarous ages, and totally unworthy the', metadata={}), Document(page_content='of Cruelty & perfidy scarcely paralleled in the most barbarous ages, and totally unworthy the Head of a civilized nation.', metadata={}), Document(page_content='He has constrained our fellow Citizens taken Captive on the high Seas to bear Arms against their Country, to become the executioners of their friends and Brethren, or to fall themselves by their Hands.', metadata={}), Document(page_content='He has excited domestic insurrections amongst us, and has endeavoured to bring on the inhabitants of our frontiers, the merciless Indian Savages, whose known rule of warfare, is an undistinguished destruction of all ages, sexes and conditions.', metadata={}), Document(page_content='In every stage of these Oppressions We have Petitioned for Redress in the most humble terms: Our repeated Petitions have been answered only by repeated injury. A Prince whose character is thus marked by every act which may define a Tyrant, is unfit', metadata={}), Document(page_content='injury. A Prince whose character is thus marked by every act which may define a Tyrant, is unfit to be the ruler of a free people.', metadata={}), Document(page_content='Nor have We been wanting in attentions to our Brittish brethren. We have warned them from time to time of attempts by their legislature to extend an unwarrantable jurisdiction over us. We have reminded them of the circumstances of our emigration and', metadata={}), Document(page_content='unwarrantable jurisdiction over us. We have reminded them of the circumstances of our emigration and settlement here. We have appealed to their native justice and magnanimity, and we have conjured them by the ties of our common kindred to disavow', metadata={}), Document(page_content='justice and magnanimity, and we have conjured them by the ties of our common kindred to disavow these usurpations, which, would inevitably interrupt our connections and correspondence. They too have been deaf to the voice of justice and of', metadata={}), Document(page_content='interrupt our connections and correspondence. They too have been deaf to the voice of justice and of consanguinity. We must, therefore, acquiesce in the necessity, which denounces our Separation, and hold them, as we hold the rest of mankind, Enemies', metadata={}), Document(page_content='necessity, which denounces our Separation, and hold them, as we hold the rest of mankind, Enemies in War, in Peace Friends.', metadata={}), Document(page_content='We, therefore, the Representatives of the united States of America, in General Congress, Assembled, appealing to the Supreme Judge of the world for the rectitude of our intentions, do, in the Name, and by Authority of the good People of these', metadata={}), Document(page_content='for the rectitude of our intentions, do, in the Name, and by Authority of the good People of these Colonies, solemnly publish and declare, That these United Colonies are, and of Right ought to be Free and Independent States; that they are Absolved', metadata={}), Document(page_content='United Colonies are, and of Right ought to be Free and Independent States; that they are Absolved from all Allegiance to the British Crown, and that all political connection between them and the State of Great Britain, is and ought to be totally', metadata={}), Document(page_content='all political connection between them and the State of Great Britain, is and ought to be totally dissolved; and that as Free and Independent States, they have full Power to levy War, conclude Peace, contract Alliances, establish Commerce, and to do', metadata={}), Document(page_content='they have full Power to levy War, conclude Peace, contract Alliances, establish Commerce, and to do all other Acts and Things which Independent States may of right do. And for the support of this Declaration, with a firm reliance on the protection of', metadata={}), Document(page_content='may of right do. And for the support of this Declaration, with a firm reliance on the protection of divine Providence, we mutually pledge to each other our Lives, our Fortunes and our sacred Honor.', metadata={})]\n"
     ]
    }
   ],
   "source": [
    "with open(my_contract) as f:\n",
    "    contract = f.read()\n",
    "# text_splitter = CharacterTextSplitter(chunk_size=500, chunk_overlap=0)\n",
    "\n",
    "text_splitter = RecursiveCharacterTextSplitter(chunk_size=250, chunk_overlap=100)\n",
    "pages = text_splitter.split_text(contract)\n",
    "texts = text_splitter.create_documents(pages)\n",
    "\n",
    "print (texts)"
   ]
  },
  {
   "cell_type": "code",
   "execution_count": 19,
   "id": "8f6799bf-ddd3-47c4-a980-9a8dba7fbc4b",
   "metadata": {},
   "outputs": [
    {
     "name": "stdout",
     "output_type": "stream",
     "text": [
      "Your Deep Lake dataset has been successfully created!\n",
      "The dataset is private so make sure you are logged in!\n",
      "This dataset can be visualized in Jupyter Notebook by ds.visualize() or at https://app.activeloop.ai/will-nova/data\n",
      "hub://will-nova/data loaded successfully.\n"
     ]
    },
    {
     "name": "stderr",
     "output_type": "stream",
     "text": []
    },
    {
     "name": "stderr",
     "output_type": "stream",
     "text": []
    },
    {
     "name": "stderr",
     "output_type": "stream",
     "text": []
    },
    {
     "name": "stderr",
     "output_type": "stream",
     "text": [
      "Evaluating ingest: 100%|██████████████████████████████████████| 1/1 [00:10<00:00\n",
      "-"
     ]
    },
    {
     "name": "stdout",
     "output_type": "stream",
     "text": [
      "Dataset(path='hub://will-nova/data', tensors=['embedding', 'ids', 'metadata', 'text'])\n",
      "\n",
      "  tensor     htype     shape      dtype  compression\n",
      "  -------   -------   -------    -------  ------- \n",
      " embedding  generic  (51, 1536)  float32   None   \n",
      "    ids      text     (51, 1)      str     None   \n",
      " metadata    json     (51, 1)      str     None   \n",
      "   text      text     (51, 1)      str     None   \n"
     ]
    },
    {
     "name": "stderr",
     "output_type": "stream",
     "text": [
      " \r"
     ]
    }
   ],
   "source": [
    "# dataset_path = 'hub://'+org+'/data'\n",
    "embeddings = OpenAIEmbeddings()\n",
    "db = DeepLake.from_documents(texts, embeddings, dataset_path=dataset_path, overwrite=True)"
   ]
  },
  {
   "cell_type": "code",
   "execution_count": 20,
   "id": "74f487dc-bf4c-4938-b289-54ce98da5071",
   "metadata": {},
   "outputs": [
    {
     "name": "stdout",
     "output_type": "stream",
     "text": [
      "This dataset can be visualized in Jupyter Notebook by ds.visualize() or at https://app.activeloop.ai/will-nova/data\n",
      "\n"
     ]
    },
    {
     "name": "stderr",
     "output_type": "stream",
     "text": []
    },
    {
     "name": "stdout",
     "output_type": "stream",
     "text": [
      "hub://will-nova/data loaded successfully.\n",
      "\n"
     ]
    },
    {
     "name": "stderr",
     "output_type": "stream",
     "text": []
    },
    {
     "name": "stdout",
     "output_type": "stream",
     "text": [
      "Deep Lake Dataset in hub://will-nova/data already exists, loading from the storage\n",
      "Dataset(path='hub://will-nova/data', read_only=True, tensors=['embedding', 'ids', 'metadata', 'text'])\n",
      "\n",
      "  tensor     htype     shape      dtype  compression\n",
      "  -------   -------   -------    -------  ------- \n",
      " embedding  generic  (51, 1536)  float32   None   \n",
      "    ids      text     (51, 1)      str     None   \n",
      " metadata    json     (51, 1)      str     None   \n",
      "   text      text     (51, 1)      str     None   \n"
     ]
    },
    {
     "name": "stderr",
     "output_type": "stream",
     "text": []
    }
   ],
   "source": [
    "db = DeepLake(dataset_path=dataset_path, read_only=True, embedding_function=embeddings)\n",
    "\n",
    "retriever = db.as_retriever()\n",
    "retriever.search_kwargs['distance_metric'] = 'cos'\n",
    "retriever.search_kwargs['k'] = 4\n",
    "\n",
    "qa = RetrievalQA.from_chain_type(llm=OpenAI(), chain_type=\"stuff\", retriever=retriever, return_source_documents=True)"
   ]
  },
  {
   "cell_type": "code",
   "execution_count": 21,
   "id": "acb15115-d26c-4572-95b0-c4a5fb905e8e",
   "metadata": {},
   "outputs": [
    {
     "name": "stdin",
     "output_type": "stream",
     "text": [
      "Enter query: when was this written?\n"
     ]
    },
    {
     "name": "stdout",
     "output_type": "stream",
     "text": [
      "\n",
      "Custom-ChatGPT-app answer:  July 4, 1776\n",
      "\n",
      "\n",
      "{'query': 'when was this written?', 'result': ' July 4, 1776', 'source_documents': [Document(page_content='In Congress, July 4, 1776', metadata={}), Document(page_content='The unanimous Declaration of the thirteen united States of America, When in the Course of human events, it becomes necessary for one people to dissolve the political bands which have connected them with another, and to assume among the powers of the', metadata={}), Document(page_content='of Cruelty & perfidy scarcely paralleled in the most barbarous ages, and totally unworthy the Head of a civilized nation.', metadata={}), Document(page_content='may of right do. And for the support of this Declaration, with a firm reliance on the protection of divine Providence, we mutually pledge to each other our Lives, our Fortunes and our sacred Honor.', metadata={})]}\n"
     ]
    }
   ],
   "source": [
    "query = input(\"Enter query:\")\n",
    "ans = qa({\"query\": query})\n",
    "\n",
    "print(\"\\nCustom-ChatGPT-app answer: \" + ans['result'] + \"\\n\\n\")\n",
    "print(ans)\n"
   ]
  },
  {
   "cell_type": "code",
   "execution_count": 22,
   "id": "fe036d3e-a9b8-475a-aaef-65f666cd879f",
   "metadata": {},
   "outputs": [
    {
     "name": "stdin",
     "output_type": "stream",
     "text": [
      "Enter query: why do we need to die?\n"
     ]
    },
    {
     "name": "stdout",
     "output_type": "stream",
     "text": [
      "\n",
      "Custom-ChatGPT-app answer:  We don't need to die. The context is talking about the necessity of separating from the British and holding them as enemies in war, but not necessarily dying.\n",
      "\n",
      "\n",
      "{'query': 'why do we need to die?', 'result': \" We don't need to die. The context is talking about the necessity of separating from the British and holding them as enemies in war, but not necessarily dying.\", 'source_documents': [Document(page_content='necessity, which denounces our Separation, and hold them, as we hold the rest of mankind, Enemies in War, in Peace Friends.', metadata={}), Document(page_content='may of right do. And for the support of this Declaration, with a firm reliance on the protection of divine Providence, we mutually pledge to each other our Lives, our Fortunes and our sacred Honor.', metadata={}), Document(page_content='We hold these truths to be self-evident, that all men are created equal, that they are endowed by their Creator with certain unalienable Rights, that among these are Life, Liberty and the pursuit of Happiness.--That to secure these rights,', metadata={}), Document(page_content='interrupt our connections and correspondence. They too have been deaf to the voice of justice and of consanguinity. We must, therefore, acquiesce in the necessity, which denounces our Separation, and hold them, as we hold the rest of mankind, Enemies', metadata={})]}\n"
     ]
    }
   ],
   "source": [
    "query = input(\"Enter query:\")\n",
    "ans = qa({\"query\": query})\n",
    "\n",
    "print(\"\\nCustom-ChatGPT-app answer: \" + ans['result'] + \"\\n\\n\")\n",
    "print(ans)\n"
   ]
  },
  {
   "cell_type": "code",
   "execution_count": 23,
   "id": "2ff1d24e-669f-4fed-9f03-c35db3f3d677",
   "metadata": {},
   "outputs": [
    {
     "name": "stdin",
     "output_type": "stream",
     "text": [
      "Enter query: what's the new foreign policy?\n"
     ]
    },
    {
     "name": "stdout",
     "output_type": "stream",
     "text": [
      "\n",
      "Custom-ChatGPT-app answer:  The new foreign policy is to encourage the migration of foreigners to these states and to pass laws to support them.\n",
      "\n",
      "\n",
      "{'query': \"what's the new foreign policy?\", 'result': ' The new foreign policy is to encourage the migration of foreigners to these states and to pass laws to support them.', 'source_documents': [Document(page_content='others to encourage their migrations hither, and raising the conditions of new Appropriations of Lands.', metadata={}), Document(page_content='He has endeavoured to prevent the population of these States; for that purpose obstructing the Laws for Naturalization of Foreigners; refusing to pass others to encourage their migrations hither, and raising the conditions of new Appropriations of', metadata={}), Document(page_content='He has excited domestic insurrections amongst us, and has endeavoured to bring on the inhabitants of our frontiers, the merciless Indian Savages, whose known rule of warfare, is an undistinguished destruction of all ages, sexes and conditions.', metadata={}), Document(page_content='form, as to them shall seem most likely to effect their Safety and Happiness. Prudence, indeed, will dictate that Governments long established should not be changed for light and transient causes; and accordingly all experience hath shewn, that', metadata={})]}\n"
     ]
    }
   ],
   "source": [
    "query = input(\"Enter query:\")\n",
    "ans = qa({\"query\": query})\n",
    "\n",
    "print(\"\\nCustom-ChatGPT-app answer: \" + ans['result'] + \"\\n\\n\")\n",
    "print(ans)\n"
   ]
  },
  {
   "cell_type": "code",
   "execution_count": 27,
   "id": "cbc8f831-19e8-436c-9d97-5cfc7a1033fb",
   "metadata": {},
   "outputs": [
    {
     "name": "stdin",
     "output_type": "stream",
     "text": [
      "Enter query: create test flashcards for a 1st grader\n"
     ]
    },
    {
     "name": "stdout",
     "output_type": "stream",
     "text": [
      "\n",
      "Custom-ChatGPT-app answer: \n",
      "\n",
      "Flashcard 1: What is a Tyranny?\n",
      "Answer: A tyranny is an oppressive form of government.\n",
      "\n",
      "Flashcard 2: What is an Arbitrary government?\n",
      "Answer: An arbitrary government is a form of government in which a ruler has unlimited power.\n",
      "\n",
      "\n",
      "{'query': 'create test flashcards for a 1st grader', 'result': '\\n\\nFlashcard 1: What is a Tyranny?\\nAnswer: A tyranny is an oppressive form of government.\\n\\nFlashcard 2: What is an Arbitrary government?\\nAnswer: An arbitrary government is a form of government in which a ruler has unlimited power.', 'source_documents': [Document(page_content='so as to render it at once an example and fit instrument for introducing the same absolute rule into these Colonies:', metadata={}), Document(page_content='having in direct object the establishment of an absolute Tyranny over these States. To prove this, let Facts be submitted to a candid world.', metadata={}), Document(page_content='For abolishing the free System of English Laws in a neighbouring Province, establishing therein an Arbitrary government, and enlarging its Boundaries so as to render it at once an example and fit instrument for introducing the same absolute rule into', metadata={}), Document(page_content='He has called together legislative bodies at places unusual, uncomfortable, and distant from the depository of their public Records, for the sole purpose of fatiguing them into compliance with his measures.', metadata={})]}\n"
     ]
    }
   ],
   "source": [
    "query = input(\"Enter query:\")\n",
    "ans = qa({\"query\": query})\n",
    "\n",
    "print(\"\\nCustom-ChatGPT-app answer: \" + ans['result'] + \"\\n\\n\")\n",
    "print(ans)\n"
   ]
  },
  {
   "cell_type": "code",
   "execution_count": 25,
   "id": "af8f8de8-2ced-4b92-9669-7e52101135be",
   "metadata": {},
   "outputs": [
    {
     "name": "stdin",
     "output_type": "stream",
     "text": [
      "Enter query: create more test flashcards for a 7th grader.\n"
     ]
    },
    {
     "name": "stdout",
     "output_type": "stream",
     "text": [
      "\n",
      "Custom-ChatGPT-app answer:  Make flashcards about the Declaration of Independence. For example, one flashcard could ask \"What did the Declaration of Independence say about taxation without representation?\" and the answer on the back of the card could say \"The Declaration of Independence declared that it was wrong for the British government to impose taxes on the colonies without giving them representation in Parliament.\"\n",
      "\n",
      "\n",
      "{'query': 'create more test flashcards for a 7th grader.', 'result': ' Make flashcards about the Declaration of Independence. For example, one flashcard could ask \"What did the Declaration of Independence say about taxation without representation?\" and the answer on the back of the card could say \"The Declaration of Independence declared that it was wrong for the British government to impose taxes on the colonies without giving them representation in Parliament.\"', 'source_documents': [Document(page_content='so as to render it at once an example and fit instrument for introducing the same absolute rule into these Colonies:', metadata={}), Document(page_content='In Congress, July 4, 1776', metadata={}), Document(page_content='others to encourage their migrations hither, and raising the conditions of new Appropriations of Lands.', metadata={}), Document(page_content='He has called together legislative bodies at places unusual, uncomfortable, and distant from the depository of their public Records, for the sole purpose of fatiguing them into compliance with his measures.', metadata={})]}\n"
     ]
    }
   ],
   "source": [
    "query = input(\"Enter query:\")\n",
    "ans = qa({\"query\": query})\n",
    "\n",
    "print(\"\\nCustom-ChatGPT-app answer: \" + ans['result'] + \"\\n\\n\")\n",
    "print(ans)\n"
   ]
  }
 ],
 "metadata": {
  "kernelspec": {
   "display_name": "Python 3 (ipykernel)",
   "language": "python",
   "name": "python3"
  },
  "language_info": {
   "codemirror_mode": {
    "name": "ipython",
    "version": 3
   },
   "file_extension": ".py",
   "mimetype": "text/x-python",
   "name": "python",
   "nbconvert_exporter": "python",
   "pygments_lexer": "ipython3",
   "version": "3.8.13"
  }
 },
 "nbformat": 4,
 "nbformat_minor": 5
}
