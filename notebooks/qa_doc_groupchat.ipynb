{
 "cells": [
  {
   "cell_type": "code",
   "execution_count": 1,
   "id": "f45df329-61b9-4d39-881e-9cda603fd73a",
   "metadata": {
    "collapsed": true,
    "jupyter": {
     "outputs_hidden": true
    },
    "tags": []
   },
   "outputs": [
    {
     "name": "stdout",
     "output_type": "stream",
     "text": [
      "Requirement already satisfied: langchain in /home/will/miniconda3/envs/pyopenai/lib/python3.8/site-packages (0.0.166)\n",
      "Requirement already satisfied: deeplake in /home/will/miniconda3/envs/pyopenai/lib/python3.8/site-packages (3.4.1)\n",
      "Requirement already satisfied: openai in /home/will/miniconda3/envs/pyopenai/lib/python3.8/site-packages (0.27.6)\n",
      "Requirement already satisfied: tiktoken in /home/will/miniconda3/envs/pyopenai/lib/python3.8/site-packages (0.4.0)\n",
      "Requirement already satisfied: PyYAML>=5.4.1 in /home/will/miniconda3/envs/pyopenai/lib/python3.8/site-packages (from langchain) (6.0)\n",
      "Requirement already satisfied: requests<3,>=2 in /home/will/miniconda3/envs/pyopenai/lib/python3.8/site-packages (from langchain) (2.30.0)\n",
      "Requirement already satisfied: openapi-schema-pydantic<2.0,>=1.2 in /home/will/miniconda3/envs/pyopenai/lib/python3.8/site-packages (from langchain) (1.2.4)\n",
      "Requirement already satisfied: aiohttp<4.0.0,>=3.8.3 in /home/will/miniconda3/envs/pyopenai/lib/python3.8/site-packages (from langchain) (3.8.4)\n",
      "Requirement already satisfied: SQLAlchemy<3,>=1.4 in /home/will/miniconda3/envs/pyopenai/lib/python3.8/site-packages (from langchain) (2.0.13)\n",
      "Requirement already satisfied: async-timeout<5.0.0,>=4.0.0 in /home/will/miniconda3/envs/pyopenai/lib/python3.8/site-packages (from langchain) (4.0.2)\n",
      "Requirement already satisfied: numexpr<3.0.0,>=2.8.4 in /home/will/miniconda3/envs/pyopenai/lib/python3.8/site-packages (from langchain) (2.8.4)\n",
      "Requirement already satisfied: tenacity<9.0.0,>=8.1.0 in /home/will/miniconda3/envs/pyopenai/lib/python3.8/site-packages (from langchain) (8.2.2)\n",
      "Requirement already satisfied: numpy<2,>=1 in /home/will/miniconda3/envs/pyopenai/lib/python3.8/site-packages (from langchain) (1.22.3)\n",
      "Requirement already satisfied: tqdm>=4.48.0 in /home/will/miniconda3/envs/pyopenai/lib/python3.8/site-packages (from langchain) (4.65.0)\n",
      "Requirement already satisfied: dataclasses-json<0.6.0,>=0.5.7 in /home/will/miniconda3/envs/pyopenai/lib/python3.8/site-packages (from langchain) (0.5.7)\n",
      "Requirement already satisfied: pydantic<2,>=1 in /home/will/miniconda3/envs/pyopenai/lib/python3.8/site-packages (from langchain) (1.10.7)\n",
      "Requirement already satisfied: aioboto3>=10.4.0 in /home/will/miniconda3/envs/pyopenai/lib/python3.8/site-packages (from deeplake) (11.2.0)\n",
      "Requirement already satisfied: pathos in /home/will/miniconda3/envs/pyopenai/lib/python3.8/site-packages (from deeplake) (0.3.0)\n",
      "Requirement already satisfied: boto3 in /home/will/miniconda3/envs/pyopenai/lib/python3.8/site-packages (from deeplake) (1.26.76)\n",
      "Requirement already satisfied: pyjwt in /home/will/miniconda3/envs/pyopenai/lib/python3.8/site-packages (from deeplake) (2.7.0)\n",
      "Requirement already satisfied: click in /home/will/miniconda3/envs/pyopenai/lib/python3.8/site-packages (from deeplake) (8.1.3)\n",
      "Requirement already satisfied: nest-asyncio in /home/will/miniconda3/envs/pyopenai/lib/python3.8/site-packages (from deeplake) (1.5.1)\n",
      "Requirement already satisfied: pillow in /home/will/miniconda3/envs/pyopenai/lib/python3.8/site-packages (from deeplake) (9.1.0)\n",
      "Requirement already satisfied: humbug>=0.3.1 in /home/will/miniconda3/envs/pyopenai/lib/python3.8/site-packages (from deeplake) (0.3.1)\n",
      "Requirement already satisfied: numcodecs in /home/will/miniconda3/envs/pyopenai/lib/python3.8/site-packages (from deeplake) (0.11.0)\n",
      "Requirement already satisfied: regex>=2022.1.18 in /home/will/miniconda3/envs/pyopenai/lib/python3.8/site-packages (from tiktoken) (2023.5.5)\n",
      "Requirement already satisfied: aiobotocore[boto3]==2.5.0 in /home/will/miniconda3/envs/pyopenai/lib/python3.8/site-packages (from aioboto3>=10.4.0->deeplake) (2.5.0)\n",
      "Requirement already satisfied: aioitertools>=0.5.1 in /home/will/miniconda3/envs/pyopenai/lib/python3.8/site-packages (from aiobotocore[boto3]==2.5.0->aioboto3>=10.4.0->deeplake) (0.11.0)\n",
      "Requirement already satisfied: botocore<1.29.77,>=1.29.76 in /home/will/miniconda3/envs/pyopenai/lib/python3.8/site-packages (from aiobotocore[boto3]==2.5.0->aioboto3>=10.4.0->deeplake) (1.29.76)\n",
      "Requirement already satisfied: wrapt>=1.10.10 in /home/will/miniconda3/envs/pyopenai/lib/python3.8/site-packages (from aiobotocore[boto3]==2.5.0->aioboto3>=10.4.0->deeplake) (1.15.0)\n",
      "Requirement already satisfied: charset-normalizer<4.0,>=2.0 in /home/will/miniconda3/envs/pyopenai/lib/python3.8/site-packages (from aiohttp<4.0.0,>=3.8.3->langchain) (2.0.4)\n",
      "Requirement already satisfied: yarl<2.0,>=1.0 in /home/will/miniconda3/envs/pyopenai/lib/python3.8/site-packages (from aiohttp<4.0.0,>=3.8.3->langchain) (1.9.2)\n",
      "Requirement already satisfied: attrs>=17.3.0 in /home/will/miniconda3/envs/pyopenai/lib/python3.8/site-packages (from aiohttp<4.0.0,>=3.8.3->langchain) (21.4.0)\n",
      "Requirement already satisfied: multidict<7.0,>=4.5 in /home/will/miniconda3/envs/pyopenai/lib/python3.8/site-packages (from aiohttp<4.0.0,>=3.8.3->langchain) (6.0.4)\n",
      "Requirement already satisfied: aiosignal>=1.1.2 in /home/will/miniconda3/envs/pyopenai/lib/python3.8/site-packages (from aiohttp<4.0.0,>=3.8.3->langchain) (1.3.1)\n",
      "Requirement already satisfied: frozenlist>=1.1.1 in /home/will/miniconda3/envs/pyopenai/lib/python3.8/site-packages (from aiohttp<4.0.0,>=3.8.3->langchain) (1.3.3)\n",
      "Requirement already satisfied: typing_extensions>=4.0 in /home/will/miniconda3/envs/pyopenai/lib/python3.8/site-packages (from aioitertools>=0.5.1->aiobotocore[boto3]==2.5.0->aioboto3>=10.4.0->deeplake) (4.5.0)\n",
      "Requirement already satisfied: jmespath<2.0.0,>=0.7.1 in /home/will/miniconda3/envs/pyopenai/lib/python3.8/site-packages (from boto3->deeplake) (1.0.1)\n",
      "Requirement already satisfied: s3transfer<0.7.0,>=0.6.0 in /home/will/miniconda3/envs/pyopenai/lib/python3.8/site-packages (from boto3->deeplake) (0.6.1)\n",
      "Requirement already satisfied: python-dateutil<3.0.0,>=2.1 in /home/will/miniconda3/envs/pyopenai/lib/python3.8/site-packages (from botocore<1.29.77,>=1.29.76->aiobotocore[boto3]==2.5.0->aioboto3>=10.4.0->deeplake) (2.8.2)\n",
      "Requirement already satisfied: urllib3<1.27,>=1.25.4 in /home/will/miniconda3/envs/pyopenai/lib/python3.8/site-packages (from botocore<1.29.77,>=1.29.76->aiobotocore[boto3]==2.5.0->aioboto3>=10.4.0->deeplake) (1.26.8)\n",
      "Requirement already satisfied: marshmallow-enum<2.0.0,>=1.5.1 in /home/will/miniconda3/envs/pyopenai/lib/python3.8/site-packages (from dataclasses-json<0.6.0,>=0.5.7->langchain) (1.5.1)\n",
      "Requirement already satisfied: marshmallow<4.0.0,>=3.3.0 in /home/will/miniconda3/envs/pyopenai/lib/python3.8/site-packages (from dataclasses-json<0.6.0,>=0.5.7->langchain) (3.19.0)\n",
      "Requirement already satisfied: typing-inspect>=0.4.0 in /home/will/miniconda3/envs/pyopenai/lib/python3.8/site-packages (from dataclasses-json<0.6.0,>=0.5.7->langchain) (0.8.0)\n",
      "Requirement already satisfied: packaging>=17.0 in /home/will/miniconda3/envs/pyopenai/lib/python3.8/site-packages (from marshmallow<4.0.0,>=3.3.0->dataclasses-json<0.6.0,>=0.5.7->langchain) (21.3)\n",
      "Requirement already satisfied: pyparsing!=3.0.5,>=2.0.2 in /home/will/miniconda3/envs/pyopenai/lib/python3.8/site-packages (from packaging>=17.0->marshmallow<4.0.0,>=3.3.0->dataclasses-json<0.6.0,>=0.5.7->langchain) (3.0.4)\n",
      "Requirement already satisfied: six>=1.5 in /home/will/miniconda3/envs/pyopenai/lib/python3.8/site-packages (from python-dateutil<3.0.0,>=2.1->botocore<1.29.77,>=1.29.76->aiobotocore[boto3]==2.5.0->aioboto3>=10.4.0->deeplake) (1.16.0)\n",
      "Requirement already satisfied: certifi>=2017.4.17 in /home/will/miniconda3/envs/pyopenai/lib/python3.8/site-packages (from requests<3,>=2->langchain) (2021.10.8)\n",
      "Requirement already satisfied: idna<4,>=2.5 in /home/will/miniconda3/envs/pyopenai/lib/python3.8/site-packages (from requests<3,>=2->langchain) (3.3)\n",
      "Requirement already satisfied: greenlet!=0.4.17 in /home/will/miniconda3/envs/pyopenai/lib/python3.8/site-packages (from SQLAlchemy<3,>=1.4->langchain) (2.0.2)\n",
      "Requirement already satisfied: mypy-extensions>=0.3.0 in /home/will/miniconda3/envs/pyopenai/lib/python3.8/site-packages (from typing-inspect>=0.4.0->dataclasses-json<0.6.0,>=0.5.7->langchain) (1.0.0)\n",
      "Requirement already satisfied: entrypoints in /home/will/miniconda3/envs/pyopenai/lib/python3.8/site-packages (from numcodecs->deeplake) (0.3)\n",
      "Requirement already satisfied: multiprocess>=0.70.14 in /home/will/miniconda3/envs/pyopenai/lib/python3.8/site-packages (from pathos->deeplake) (0.70.14)\n",
      "Requirement already satisfied: pox>=0.3.2 in /home/will/miniconda3/envs/pyopenai/lib/python3.8/site-packages (from pathos->deeplake) (0.3.2)\n",
      "Requirement already satisfied: dill>=0.3.6 in /home/will/miniconda3/envs/pyopenai/lib/python3.8/site-packages (from pathos->deeplake) (0.3.6)\n",
      "Requirement already satisfied: ppft>=1.7.6.6 in /home/will/miniconda3/envs/pyopenai/lib/python3.8/site-packages (from pathos->deeplake) (1.7.6.6)\n"
     ]
    }
   ],
   "source": [
    "\n",
    "!python3 -m pip install --upgrade langchain deeplake openai tiktoken"
   ]
  },
  {
   "cell_type": "code",
   "execution_count": 3,
   "id": "97d7d374-7e92-44da-9b8e-fcb72eadc228",
   "metadata": {},
   "outputs": [],
   "source": [
    "import os\n",
    "import getpass\n",
    "from langchain.document_loaders import PyPDFLoader, TextLoader\n",
    "from langchain.embeddings.openai import OpenAIEmbeddings\n",
    "from langchain.text_splitter import RecursiveCharacterTextSplitter, CharacterTextSplitter\n",
    "from langchain.vectorstores import DeepLake\n",
    "from langchain.chains import ConversationalRetrievalChain, RetrievalQA\n",
    "from langchain.chat_models import ChatOpenAI\n",
    "from langchain.llms import OpenAI"
   ]
  },
  {
   "cell_type": "code",
   "execution_count": 4,
   "id": "15bad25e-00ff-4d84-86d3-7cbc4e80e89a",
   "metadata": {},
   "outputs": [],
   "source": [
    "import openai\n",
    "import os\n",
    "import IPython\n",
    "from dotenv import load_dotenv\n",
    "load_dotenv()\n",
    "openai.api_key = os.getenv(\"OPENAI_API_KEY\")"
   ]
  },
  {
   "cell_type": "code",
   "execution_count": 11,
   "id": "1b1f8d1b-fd58-441d-906a-2bd68cbe162d",
   "metadata": {},
   "outputs": [
    {
     "name": "stdout",
     "output_type": "stream",
     "text": [
      "hub://will-nova/data\n"
     ]
    }
   ],
   "source": [
    "ACTIVELOOP_TOKEN = os.getenv('ACTIVELOOP_TOKEN')\n",
    "org = os.getenv('ACTIVELOOP_ORG')\n",
    "\n",
    "embeddings = OpenAIEmbeddings()\n",
    "\n",
    "dataset_path = 'hub://' + org + '/data'\n",
    "print(dataset_path)"
   ]
  },
  {
   "cell_type": "code",
   "execution_count": 5,
   "id": "5f7b4fb3-ba5b-4008-a2b4-5fe6b6147214",
   "metadata": {},
   "outputs": [],
   "source": [
    "my_contract = \"../sample_pennstate_lease.txt\""
   ]
  },
  {
   "cell_type": "code",
   "execution_count": 25,
   "id": "cda06876-d211-46a5-b537-2d7d8263aabc",
   "metadata": {},
   "outputs": [
    {
     "name": "stdout",
     "output_type": "stream",
     "text": [
      "[Document(page_content='Sample Lease or Rental Agreement from https://altoona.psu.edu/offices-divisions/student-affairs/off-campus-living/sample-lease-rental-agreement\\n\\nBy this agreement made at [location], PA on the [day of the month] day of [month], [year], the Landlord [landlord name] and the Tenant [tenant name] agree as follows:', metadata={}), Document(page_content='1. Property\\n    The landlord hereby leases to Tenant for the term of this agreement\\n        the property located at: [property address]\\n        And\\n        the furniture and appliances on that property:\\n        [description of furniture and appliances, if applicable]\\n    2. Term', metadata={}), Document(page_content='[description of furniture and appliances, if applicable]\\n    2. Term\\n    The term of this lease is for [duration of lease], beginning on [start date], and ending on [end date]. At the expiration of said term, the lease will automatically be renewed for a period of one month unless either party notifies the other of its intention to terminate the lease at least one month before its expiration date.\\n    (or)', metadata={}), Document(page_content='(or)\\n    At the expiration of said term, the lease will expire unless the tenant gives a written notice at least 15 days before the termination date of the lease. Thereafter, the lease will automatically be renewed for periods of one month until either party notifies the other of its intention to terminate the lease. The notice of termination will be in writing and will be effective on the next rental date no less than 30 days after the date of the notice.\\n    3. Rent', metadata={}), Document(page_content='3. Rent\\n    Tenant agrees to pay rent in the amount of [monthly rent amount] per month, each payment due on the [day of the month] day of each month and to be made at:\\n    [Landlord address]\\n    4. Utilities/Services\\n    Landlord agrees to provide the utilities and services indicated: [circle all utilities and services that apply]\\n        electricity\\n        gas\\n        water\\n        garbage collection\\n        snow removal\\n        other\\n    5. Deposit', metadata={}), Document(page_content='water\\n        garbage collection\\n        snow removal\\n        other\\n    5. Deposit\\n    Tenant has paid a deposit of $[deposit amount] of which Landlord acknowledges receipt. Upon regaining possession of the property, Landlord shall refund to Tenant the total amount of the deposit less any damages to the property, normal wear and tear expected, and less any unpaid rent.\\n    6. Refund Procedures', metadata={}), Document(page_content='6. Refund Procedures\\n        Forwarding Address—Tenant shall provide Landlord with a forwarding address at which the Landlord can send him/her the deposit refund.', metadata={}), Document(page_content='Landlord shall return the entire deposit to Tenant within 15 days after retaking possession; or shall return so much of the deposit as exceeds any damages done to the property during the Tenant’s residence, normal wear and tear expected, and any unpaid rent. If the Landlord returns any amount less than the full deposit, he/she shall also provide a written itemized list of damages and charges.', metadata={}), Document(page_content='Tenant maintains the right to sue Landlord for any portion of the deposit not returned to him/her which\\n        the tenant believes he/she is entitled.\\n    7. Inventory Checklist', metadata={}), Document(page_content='The Tenant is provided with an Inventory Move-In Checklist attached to this lease. The Tenant shall note the conditions of each item on the checklist and return a copy to the Landlord within 10 days after taking possessions. If the Landlord objects to inclusions of any item, he/she shall notify the Tenant in writing within 10 days. The Tenant and Landlord shall note the condition of each item on the checklist after the Tenant returns possession to the Landlord and shall give a copy to the', metadata={}), Document(page_content='on the checklist after the Tenant returns possession to the Landlord and shall give a copy to the other party.', metadata={}), Document(page_content='The Landlord may not retain any portion of the Security Deposit for damages noted in the Move-Out Checklist to which the Landlord did not object.\\n    8. The Parties Also Agree\\n        Tenant shall not sublease nor assign the premises without the written consent of the Landlord (but this consent shall not be withheld unreasonably).', metadata={}), Document(page_content='The Landlord may not enter the premises without having given tenant at least 24 hours notice, except in case of emergency. Landlord may enter to inspect, repair, or show the premises to prospective buyers or tenants if notice is given.\\n        Tenant agrees to occupy the premises and shall keep the same good condition, and shall not make any alternations thereon without the written consent of the landlord.', metadata={}), Document(page_content='Landlord agrees to regularly maintain the building and grounds in a clean, orderly, and neat manner. Landlord further agrees not to maintain a public nuisance and not to conduct business or commercial activities on the premises.\\n        Tenant agrees not to use the premises in such a manner as to disturb the peace and quiet of other tenants in the building. Tenant further agrees not to maintain a public nuisance and not to conduct business or commercial activities on the premises.', metadata={}), Document(page_content='Tenant shall, upon termination of this Agreement, vacate and return the swelling in the same condition that it was received, less reasonable wear and tear, and other damages beyond the Tenant’s control.\\n        Any alternations to this Agreement shall be in writing and signed by all parties. We, the undersigned, agree to this Lease:', metadata={}), Document(page_content='Signatures\\n[include signatures and printed names of landlord and tenant]', metadata={})]\n"
     ]
    }
   ],
   "source": [
    "with open(my_contract) as f:\n",
    "    contract = f.read()\n",
    "# text_splitter = CharacterTextSplitter(chunk_size=500, chunk_overlap=0)\n",
    "\n",
    "text_splitter = RecursiveCharacterTextSplitter(chunk_size=500, chunk_overlap=100)\n",
    "pages = text_splitter.split_text(contract)\n",
    "texts = text_splitter.create_documents(pages)\n",
    "\n",
    "print (texts)"
   ]
  },
  {
   "cell_type": "code",
   "execution_count": 26,
   "id": "8f6799bf-ddd3-47c4-a980-9a8dba7fbc4b",
   "metadata": {},
   "outputs": [
    {
     "name": "stdout",
     "output_type": "stream",
     "text": [
      "Your Deep Lake dataset has been successfully created!\n",
      "The dataset is private so make sure you are logged in!\n",
      "This dataset can be visualized in Jupyter Notebook by ds.visualize() or at https://app.activeloop.ai/will-nova/data\n",
      "hub://will-nova/data loaded successfully.\n"
     ]
    },
    {
     "name": "stderr",
     "output_type": "stream",
     "text": []
    },
    {
     "name": "stderr",
     "output_type": "stream",
     "text": []
    },
    {
     "name": "stderr",
     "output_type": "stream",
     "text": []
    },
    {
     "name": "stderr",
     "output_type": "stream",
     "text": [
      "Evaluating ingest: 100%|██████████████████████████████████████| 1/1 [00:13<00:00\n",
      "|"
     ]
    },
    {
     "name": "stdout",
     "output_type": "stream",
     "text": [
      "Dataset(path='hub://will-nova/data', tensors=['embedding', 'ids', 'metadata', 'text'])\n",
      "\n",
      "  tensor     htype     shape      dtype  compression\n",
      "  -------   -------   -------    -------  ------- \n",
      " embedding  generic  (16, 1536)  float32   None   \n",
      "    ids      text     (16, 1)      str     None   \n",
      " metadata    json     (16, 1)      str     None   \n",
      "   text      text     (16, 1)      str     None   \n"
     ]
    },
    {
     "name": "stderr",
     "output_type": "stream",
     "text": [
      " \r"
     ]
    }
   ],
   "source": [
    "# dataset_path = 'hub://'+org+'/data'\n",
    "embeddings = OpenAIEmbeddings()\n",
    "db = DeepLake.from_documents(texts, embeddings, dataset_path=dataset_path, overwrite=True)"
   ]
  },
  {
   "cell_type": "code",
   "execution_count": 20,
   "id": "74f487dc-bf4c-4938-b289-54ce98da5071",
   "metadata": {},
   "outputs": [
    {
     "name": "stdout",
     "output_type": "stream",
     "text": [
      "This dataset can be visualized in Jupyter Notebook by ds.visualize() or at https://app.activeloop.ai/will-nova/data\n",
      "\n"
     ]
    },
    {
     "name": "stderr",
     "output_type": "stream",
     "text": []
    },
    {
     "name": "stdout",
     "output_type": "stream",
     "text": [
      "hub://will-nova/data loaded successfully.\n",
      "\n"
     ]
    },
    {
     "name": "stderr",
     "output_type": "stream",
     "text": []
    },
    {
     "name": "stdout",
     "output_type": "stream",
     "text": [
      "Deep Lake Dataset in hub://will-nova/data already exists, loading from the storage\n",
      "Dataset(path='hub://will-nova/data', read_only=True, tensors=['embedding', 'ids', 'metadata', 'text'])\n",
      "\n",
      "  tensor     htype     shape      dtype  compression\n",
      "  -------   -------   -------    -------  ------- \n",
      " embedding  generic  (17, 1536)  float32   None   \n",
      "    ids      text     (17, 1)      str     None   \n",
      " metadata    json     (17, 1)      str     None   \n",
      "   text      text     (17, 1)      str     None   \n"
     ]
    },
    {
     "name": "stderr",
     "output_type": "stream",
     "text": []
    }
   ],
   "source": [
    "db = DeepLake(dataset_path=dataset_path, read_only=True, embedding_function=embeddings)\n",
    "\n",
    "retriever = db.as_retriever()\n",
    "retriever.search_kwargs['distance_metric'] = 'cos'\n",
    "retriever.search_kwargs['k'] = 4\n",
    "\n",
    "qa = RetrievalQA.from_chain_type(llm=OpenAI(), chain_type=\"stuff\", retriever=retriever, return_source_documents=True)"
   ]
  },
  {
   "cell_type": "code",
   "execution_count": 21,
   "id": "acb15115-d26c-4572-95b0-c4a5fb905e8e",
   "metadata": {},
   "outputs": [
    {
     "name": "stdin",
     "output_type": "stream",
     "text": [
      "Enter query: who is king charles?\n"
     ]
    },
    {
     "name": "stdout",
     "output_type": "stream",
     "text": [
      "\n",
      "Custom-ChatGPT-app answer:  I don't know.\n",
      "\n",
      "\n",
      "{'query': 'who is king charles?', 'result': \" I don't know.\", 'source_documents': [Document(page_content='Signatures\\n[include signatures and printed names of landlord and tenant]', metadata={}), Document(page_content='Landlord agrees to regularly maintain the building and grounds in a clean, orderly, and neat manner. Landlord further agrees not to maintain a public nuisance and not to conduct business or commercial activities on the premises.', metadata={}), Document(page_content='Any alternations to this Agreement shall be in writing and signed by all parties. We, the undersigned, agree to this Lease:', metadata={}), Document(page_content='on the checklist after the Tenant returns possession to the Landlord and shall give a copy to the other party.', metadata={})]}\n"
     ]
    }
   ],
   "source": [
    "query = input(\"Enter query:\")\n",
    "ans = qa({\"query\": query})\n",
    "\n",
    "print(\"\\nCustom-ChatGPT-app answer: \" + ans['result'] + \"\\n\\n\")\n",
    "print(ans)\n"
   ]
  },
  {
   "cell_type": "code",
   "execution_count": 23,
   "id": "fe036d3e-a9b8-475a-aaef-65f666cd879f",
   "metadata": {},
   "outputs": [
    {
     "name": "stdin",
     "output_type": "stream",
     "text": [
      "Enter query: who pays for water?\n"
     ]
    },
    {
     "name": "stdout",
     "output_type": "stream",
     "text": [
      "\n",
      "Custom-ChatGPT-app answer:  The Tenant agrees to pay for water.\n",
      "\n",
      "\n",
      "{'query': 'who pays for water?', 'result': ' The Tenant agrees to pay for water.', 'source_documents': [Document(page_content='water\\n        garbage collection\\n        snow removal\\n        other\\n    5. Deposit\\n    Tenant has paid a deposit of $[deposit amount] of which Landlord acknowledges receipt. Upon regaining possession of the property, Landlord shall refund to Tenant the total amount of the deposit less any damages to the property, normal wear and tear expected, and less any unpaid rent.\\n    6. Refund Procedures', metadata={}), Document(page_content='3. Rent\\n    Tenant agrees to pay rent in the amount of [monthly rent amount] per month, each payment due on the [day of the month] day of each month and to be made at:\\n    [Landlord address]\\n    4. Utilities/Services\\n    Landlord agrees to provide the utilities and services indicated: [circle all utilities and services that apply]\\n        electricity\\n        gas\\n        water\\n        garbage collection\\n        snow removal\\n        other\\n    5. Deposit', metadata={}), Document(page_content='Signatures\\n[include signatures and printed names of landlord and tenant]', metadata={}), Document(page_content='Any alternations to this Agreement shall be in writing and signed by all parties. We, the undersigned, agree to this Lease:', metadata={})]}\n"
     ]
    }
   ],
   "source": [
    "query = input(\"Enter query:\")\n",
    "ans = qa({\"query\": query})\n",
    "\n",
    "print(\"\\nCustom-ChatGPT-app answer: \" + ans['result'] + \"\\n\\n\")\n",
    "print(ans)\n"
   ]
  },
  {
   "cell_type": "code",
   "execution_count": 24,
   "id": "2ff1d24e-669f-4fed-9f03-c35db3f3d677",
   "metadata": {},
   "outputs": [
    {
     "name": "stdin",
     "output_type": "stream",
     "text": [
      "Enter query: for what reasons and with what notice can landlord enter the property?\n"
     ]
    },
    {
     "name": "stdout",
     "output_type": "stream",
     "text": [
      "\n",
      "Custom-ChatGPT-app answer:  The Landlord may enter the property with at least 24 hours notice to inspect, repair, or show the premises to prospective buyers or tenants.\n",
      "\n",
      "\n",
      "{'query': 'for what reasons and with what notice can landlord enter the property?', 'result': ' The Landlord may enter the property with at least 24 hours notice to inspect, repair, or show the premises to prospective buyers or tenants.', 'source_documents': [Document(page_content='The Landlord may not enter the premises without having given tenant at least 24 hours notice, except in case of emergency. Landlord may enter to inspect, repair, or show the premises to prospective buyers or tenants if notice is given.\\n        Tenant agrees to occupy the premises and shall keep the same good condition, and shall not make any alternations thereon without the written consent of the landlord.', metadata={}), Document(page_content='Landlord agrees to regularly maintain the building and grounds in a clean, orderly, and neat manner. Landlord further agrees not to maintain a public nuisance and not to conduct business or commercial activities on the premises.', metadata={}), Document(page_content='The Tenant is provided with an Inventory Move-In Checklist attached to this lease. The Tenant shall note the conditions of each item on the checklist and return a copy to the Landlord within 10 days after taking possessions. If the Landlord objects to inclusions of any item, he/she shall notify the Tenant in writing within 10 days. The Tenant and Landlord shall note the condition of each item on the checklist after the Tenant returns possession to the Landlord and shall give a copy to the', metadata={}), Document(page_content='The Landlord may not retain any portion of the Security Deposit for damages noted in the Move-Out Checklist to which the Landlord did not object.\\n    8. The Parties Also Agree\\n        Tenant shall not sublease nor assign the premises without the written consent of the Landlord (but this consent shall not be withheld unreasonably).', metadata={})]}\n"
     ]
    }
   ],
   "source": [
    "query = input(\"Enter query:\")\n",
    "ans = qa({\"query\": query})\n",
    "\n",
    "print(\"\\nCustom-ChatGPT-app answer: \" + ans['result'] + \"\\n\\n\")\n",
    "print(ans)\n"
   ]
  }
 ],
 "metadata": {
  "kernelspec": {
   "display_name": "Python 3 (ipykernel)",
   "language": "python",
   "name": "python3"
  },
  "language_info": {
   "codemirror_mode": {
    "name": "ipython",
    "version": 3
   },
   "file_extension": ".py",
   "mimetype": "text/x-python",
   "name": "python",
   "nbconvert_exporter": "python",
   "pygments_lexer": "ipython3",
   "version": "3.8.13"
  }
 },
 "nbformat": 4,
 "nbformat_minor": 5
}
