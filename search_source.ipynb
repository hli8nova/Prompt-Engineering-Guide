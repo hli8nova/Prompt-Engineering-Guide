{
 "cells": [
  {
   "cell_type": "code",
   "execution_count": 9,
   "id": "97c901ff-a475-459f-8e84-959caa2a336b",
   "metadata": {
    "collapsed": true,
    "jupyter": {
     "outputs_hidden": true
    },
    "tags": []
   },
   "outputs": [
    {
     "name": "stdout",
     "output_type": "stream",
     "text": [
      "Requirement already satisfied: langchain in /home/will/miniconda3/envs/pyopenai/lib/python3.8/site-packages (0.0.165)\n",
      "Collecting deeplake\n",
      "  Downloading deeplake-3.4.1.tar.gz (476 kB)\n",
      "\u001b[K     |████████████████████████████████| 476 kB 5.6 MB/s eta 0:00:01\n",
      "\u001b[?25hRequirement already satisfied: openai in /home/will/miniconda3/envs/pyopenai/lib/python3.8/site-packages (0.27.6)\n",
      "Collecting tiktoken\n",
      "  Downloading tiktoken-0.4.0-cp38-cp38-manylinux_2_17_x86_64.manylinux2014_x86_64.whl (1.7 MB)\n",
      "\u001b[K     |████████████████████████████████| 1.7 MB 12.2 MB/s eta 0:00:01\n",
      "\u001b[?25hRequirement already satisfied: openapi-schema-pydantic<2.0,>=1.2 in /home/will/miniconda3/envs/pyopenai/lib/python3.8/site-packages (from langchain) (1.2.4)\n",
      "Requirement already satisfied: PyYAML>=5.4.1 in /home/will/miniconda3/envs/pyopenai/lib/python3.8/site-packages (from langchain) (6.0)\n",
      "Requirement already satisfied: tenacity<9.0.0,>=8.1.0 in /home/will/miniconda3/envs/pyopenai/lib/python3.8/site-packages (from langchain) (8.2.2)\n",
      "Requirement already satisfied: numexpr<3.0.0,>=2.8.4 in /home/will/miniconda3/envs/pyopenai/lib/python3.8/site-packages (from langchain) (2.8.4)\n",
      "Requirement already satisfied: tqdm>=4.48.0 in /home/will/miniconda3/envs/pyopenai/lib/python3.8/site-packages (from langchain) (4.65.0)\n",
      "Requirement already satisfied: async-timeout<5.0.0,>=4.0.0 in /home/will/miniconda3/envs/pyopenai/lib/python3.8/site-packages (from langchain) (4.0.2)\n",
      "Requirement already satisfied: numpy<2,>=1 in /home/will/miniconda3/envs/pyopenai/lib/python3.8/site-packages (from langchain) (1.22.3)\n",
      "Requirement already satisfied: dataclasses-json<0.6.0,>=0.5.7 in /home/will/miniconda3/envs/pyopenai/lib/python3.8/site-packages (from langchain) (0.5.7)\n",
      "Requirement already satisfied: requests<3,>=2 in /home/will/miniconda3/envs/pyopenai/lib/python3.8/site-packages (from langchain) (2.30.0)\n",
      "Requirement already satisfied: SQLAlchemy<3,>=1.4 in /home/will/miniconda3/envs/pyopenai/lib/python3.8/site-packages (from langchain) (2.0.13)\n",
      "Requirement already satisfied: aiohttp<4.0.0,>=3.8.3 in /home/will/miniconda3/envs/pyopenai/lib/python3.8/site-packages (from langchain) (3.8.4)\n",
      "Requirement already satisfied: pydantic<2,>=1 in /home/will/miniconda3/envs/pyopenai/lib/python3.8/site-packages (from langchain) (1.10.7)\n",
      "Requirement already satisfied: pillow in /home/will/miniconda3/envs/pyopenai/lib/python3.8/site-packages (from deeplake) (9.1.0)\n",
      "Collecting boto3\n",
      "  Downloading boto3-1.26.132-py3-none-any.whl (135 kB)\n",
      "\u001b[K     |████████████████████████████████| 135 kB 11.7 MB/s eta 0:00:01\n",
      "\u001b[?25hRequirement already satisfied: click in /home/will/miniconda3/envs/pyopenai/lib/python3.8/site-packages (from deeplake) (8.1.3)\n",
      "Collecting pathos\n",
      "  Downloading pathos-0.3.0-py3-none-any.whl (79 kB)\n",
      "\u001b[K     |████████████████████████████████| 79 kB 8.3 MB/s eta 0:00:01\n",
      "\u001b[?25hCollecting humbug>=0.3.1\n",
      "  Downloading humbug-0.3.1-py3-none-any.whl (15 kB)\n",
      "Collecting numcodecs\n",
      "  Downloading numcodecs-0.11.0-cp38-cp38-manylinux_2_17_x86_64.manylinux2014_x86_64.whl (6.7 MB)\n",
      "\u001b[K     |████████████████████████████████| 6.7 MB 9.5 MB/s eta 0:00:01\n",
      "\u001b[?25hCollecting pyjwt\n",
      "  Downloading PyJWT-2.7.0-py3-none-any.whl (22 kB)\n",
      "Collecting aioboto3>=10.4.0\n",
      "  Downloading aioboto3-11.2.0-py3-none-any.whl (32 kB)\n",
      "Requirement already satisfied: nest_asyncio in /home/will/miniconda3/envs/pyopenai/lib/python3.8/site-packages (from deeplake) (1.5.1)\n",
      "Requirement already satisfied: regex>=2022.1.18 in /home/will/miniconda3/envs/pyopenai/lib/python3.8/site-packages (from tiktoken) (2023.5.5)\n",
      "Collecting aiobotocore[boto3]==2.5.0\n",
      "  Downloading aiobotocore-2.5.0-py3-none-any.whl (72 kB)\n",
      "\u001b[K     |████████████████████████████████| 72 kB 4.4 MB/s  eta 0:00:01\n",
      "\u001b[?25hCollecting wrapt>=1.10.10\n",
      "  Downloading wrapt-1.15.0-cp38-cp38-manylinux_2_5_x86_64.manylinux1_x86_64.manylinux_2_17_x86_64.manylinux2014_x86_64.whl (81 kB)\n",
      "\u001b[K     |████████████████████████████████| 81 kB 8.7 MB/s  eta 0:00:01\n",
      "\u001b[?25hCollecting aioitertools>=0.5.1\n",
      "  Downloading aioitertools-0.11.0-py3-none-any.whl (23 kB)\n",
      "Collecting botocore<1.29.77,>=1.29.76\n",
      "  Downloading botocore-1.29.76-py3-none-any.whl (10.4 MB)\n",
      "\u001b[K     |████████████████████████████████| 10.4 MB 39.0 MB/s eta 0:00:01\n",
      "\u001b[?25hCollecting boto3\n",
      "  Downloading boto3-1.26.76-py3-none-any.whl (132 kB)\n",
      "\u001b[K     |████████████████████████████████| 132 kB 10.3 MB/s eta 0:00:01\n",
      "\u001b[?25hRequirement already satisfied: charset-normalizer<4.0,>=2.0 in /home/will/miniconda3/envs/pyopenai/lib/python3.8/site-packages (from aiohttp<4.0.0,>=3.8.3->langchain) (2.0.4)\n",
      "Requirement already satisfied: multidict<7.0,>=4.5 in /home/will/miniconda3/envs/pyopenai/lib/python3.8/site-packages (from aiohttp<4.0.0,>=3.8.3->langchain) (6.0.4)\n",
      "Requirement already satisfied: yarl<2.0,>=1.0 in /home/will/miniconda3/envs/pyopenai/lib/python3.8/site-packages (from aiohttp<4.0.0,>=3.8.3->langchain) (1.9.2)\n",
      "Requirement already satisfied: aiosignal>=1.1.2 in /home/will/miniconda3/envs/pyopenai/lib/python3.8/site-packages (from aiohttp<4.0.0,>=3.8.3->langchain) (1.3.1)\n",
      "Requirement already satisfied: attrs>=17.3.0 in /home/will/miniconda3/envs/pyopenai/lib/python3.8/site-packages (from aiohttp<4.0.0,>=3.8.3->langchain) (21.4.0)\n",
      "Requirement already satisfied: frozenlist>=1.1.1 in /home/will/miniconda3/envs/pyopenai/lib/python3.8/site-packages (from aiohttp<4.0.0,>=3.8.3->langchain) (1.3.3)\n",
      "Requirement already satisfied: typing_extensions>=4.0 in /home/will/miniconda3/envs/pyopenai/lib/python3.8/site-packages (from aioitertools>=0.5.1->aiobotocore[boto3]==2.5.0->aioboto3>=10.4.0->deeplake) (4.5.0)\n",
      "Collecting jmespath<2.0.0,>=0.7.1\n",
      "  Downloading jmespath-1.0.1-py3-none-any.whl (20 kB)\n",
      "Collecting s3transfer<0.7.0,>=0.6.0\n",
      "  Downloading s3transfer-0.6.1-py3-none-any.whl (79 kB)\n",
      "\u001b[K     |████████████████████████████████| 79 kB 9.8 MB/s  eta 0:00:01\n",
      "\u001b[?25hRequirement already satisfied: python-dateutil<3.0.0,>=2.1 in /home/will/miniconda3/envs/pyopenai/lib/python3.8/site-packages (from botocore<1.29.77,>=1.29.76->aiobotocore[boto3]==2.5.0->aioboto3>=10.4.0->deeplake) (2.8.2)\n",
      "Requirement already satisfied: urllib3<1.27,>=1.25.4 in /home/will/miniconda3/envs/pyopenai/lib/python3.8/site-packages (from botocore<1.29.77,>=1.29.76->aiobotocore[boto3]==2.5.0->aioboto3>=10.4.0->deeplake) (1.26.8)\n",
      "Requirement already satisfied: marshmallow<4.0.0,>=3.3.0 in /home/will/miniconda3/envs/pyopenai/lib/python3.8/site-packages (from dataclasses-json<0.6.0,>=0.5.7->langchain) (3.19.0)\n",
      "Requirement already satisfied: typing-inspect>=0.4.0 in /home/will/miniconda3/envs/pyopenai/lib/python3.8/site-packages (from dataclasses-json<0.6.0,>=0.5.7->langchain) (0.8.0)\n",
      "Requirement already satisfied: marshmallow-enum<2.0.0,>=1.5.1 in /home/will/miniconda3/envs/pyopenai/lib/python3.8/site-packages (from dataclasses-json<0.6.0,>=0.5.7->langchain) (1.5.1)\n",
      "Requirement already satisfied: packaging>=17.0 in /home/will/miniconda3/envs/pyopenai/lib/python3.8/site-packages (from marshmallow<4.0.0,>=3.3.0->dataclasses-json<0.6.0,>=0.5.7->langchain) (21.3)\n",
      "Requirement already satisfied: pyparsing!=3.0.5,>=2.0.2 in /home/will/miniconda3/envs/pyopenai/lib/python3.8/site-packages (from packaging>=17.0->marshmallow<4.0.0,>=3.3.0->dataclasses-json<0.6.0,>=0.5.7->langchain) (3.0.4)\n",
      "Requirement already satisfied: six>=1.5 in /home/will/miniconda3/envs/pyopenai/lib/python3.8/site-packages (from python-dateutil<3.0.0,>=2.1->botocore<1.29.77,>=1.29.76->aiobotocore[boto3]==2.5.0->aioboto3>=10.4.0->deeplake) (1.16.0)\n",
      "Requirement already satisfied: idna<4,>=2.5 in /home/will/miniconda3/envs/pyopenai/lib/python3.8/site-packages (from requests<3,>=2->langchain) (3.3)\n",
      "Requirement already satisfied: certifi>=2017.4.17 in /home/will/miniconda3/envs/pyopenai/lib/python3.8/site-packages (from requests<3,>=2->langchain) (2021.10.8)\n",
      "Requirement already satisfied: greenlet!=0.4.17 in /home/will/miniconda3/envs/pyopenai/lib/python3.8/site-packages (from SQLAlchemy<3,>=1.4->langchain) (2.0.2)\n",
      "Requirement already satisfied: mypy-extensions>=0.3.0 in /home/will/miniconda3/envs/pyopenai/lib/python3.8/site-packages (from typing-inspect>=0.4.0->dataclasses-json<0.6.0,>=0.5.7->langchain) (1.0.0)\n",
      "Requirement already satisfied: entrypoints in /home/will/miniconda3/envs/pyopenai/lib/python3.8/site-packages (from numcodecs->deeplake) (0.3)\n",
      "Collecting multiprocess>=0.70.14\n",
      "  Downloading multiprocess-0.70.14-py38-none-any.whl (132 kB)\n",
      "\u001b[K     |████████████████████████████████| 132 kB 12.2 MB/s eta 0:00:01\n",
      "\u001b[?25hCollecting dill>=0.3.6\n",
      "  Downloading dill-0.3.6-py3-none-any.whl (110 kB)\n",
      "\u001b[K     |████████████████████████████████| 110 kB 11.8 MB/s eta 0:00:01\n",
      "\u001b[?25hCollecting ppft>=1.7.6.6\n",
      "  Downloading ppft-1.7.6.6-py3-none-any.whl (52 kB)\n",
      "\u001b[K     |████████████████████████████████| 52 kB 2.6 MB/s  eta 0:00:01\n",
      "\u001b[?25hCollecting pox>=0.3.2\n",
      "  Downloading pox-0.3.2-py3-none-any.whl (29 kB)\n",
      "Building wheels for collected packages: deeplake\n",
      "  Building wheel for deeplake (setup.py) ... \u001b[?25ldone\n",
      "\u001b[?25h  Created wheel for deeplake: filename=deeplake-3.4.1-py3-none-any.whl size=577062 sha256=66a749aec4b4487dc294ac647a4ad4dcb7ea920a03998ccb05e872333923d5ee\n",
      "  Stored in directory: /home/will/.cache/pip/wheels/95/b1/a7/0235e9e19b0de18d9c96b240688d914c5a6f73626e55746386\n",
      "Successfully built deeplake\n",
      "Installing collected packages: jmespath, botocore, wrapt, s3transfer, aioitertools, dill, boto3, aiobotocore, ppft, pox, multiprocess, pyjwt, pathos, numcodecs, humbug, aioboto3, tiktoken, deeplake\n",
      "Successfully installed aioboto3-11.2.0 aiobotocore-2.5.0 aioitertools-0.11.0 boto3-1.26.76 botocore-1.29.76 deeplake-3.4.1 dill-0.3.6 humbug-0.3.1 jmespath-1.0.1 multiprocess-0.70.14 numcodecs-0.11.0 pathos-0.3.0 pox-0.3.2 ppft-1.7.6.6 pyjwt-2.7.0 s3transfer-0.6.1 tiktoken-0.4.0 wrapt-1.15.0\n"
     ]
    }
   ],
   "source": [
    "!python3 -m pip install --upgrade langchain deeplake openai tiktoken"
   ]
  },
  {
   "cell_type": "code",
   "execution_count": 14,
   "id": "1a725fe1-842e-407e-ac34-f6fafa06577d",
   "metadata": {},
   "outputs": [],
   "source": [
    "import os\n",
    "# os.environ[\"OPENAI_API_KEY\"] = \"...\""
   ]
  },
  {
   "cell_type": "code",
   "execution_count": 15,
   "id": "92669e46-9682-4d0e-a33a-13f49b9d3dc1",
   "metadata": {},
   "outputs": [],
   "source": [
    "from langchain.agents import load_tools\n",
    "from langchain.agents import initialize_agent"
   ]
  },
  {
   "cell_type": "code",
   "execution_count": 16,
   "id": "654ae5ae-7b4c-499b-9581-ffeb10703352",
   "metadata": {},
   "outputs": [],
   "source": [
    "import openai\n",
    "import os\n",
    "import IPython\n",
    "from dotenv import load_dotenv\n",
    "load_dotenv()\n",
    "openai.api_key = os.getenv(\"OPENAI_API_KEY\")"
   ]
  },
  {
   "cell_type": "code",
   "execution_count": 3,
   "id": "1859fa09-12c7-4d7a-b8dc-cfb86ea2efca",
   "metadata": {},
   "outputs": [],
   "source": [
    "from langchain.document_loaders import TextLoader\n",
    "loader = TextLoader('./state_of_the_union.txt')"
   ]
  },
  {
   "cell_type": "code",
   "execution_count": 10,
   "id": "c70010dc-93a8-43da-a3ce-7340e5bbd086",
   "metadata": {},
   "outputs": [
    {
     "name": "stderr",
     "output_type": "stream",
     "text": [
      "Using embedded DuckDB without persistence: data will be transient\n"
     ]
    }
   ],
   "source": [
    "from langchain.indexes import VectorstoreIndexCreator\n",
    "index = VectorstoreIndexCreator().from_loaders([loader])"
   ]
  },
  {
   "cell_type": "code",
   "execution_count": 11,
   "id": "ca0169d7-018a-43a8-8639-565e0d595c5d",
   "metadata": {},
   "outputs": [
    {
     "data": {
      "text/plain": [
       "\" The president said that Ketanji Brown Jackson is one of the nation's top legal minds, a former top litigator in private practice, a former federal public defender, and from a family of public school educators and police officers. He also said that she is a consensus builder and has received a broad range of support from the Fraternal Order of Police to former judges appointed by Democrats and Republicans.\""
      ]
     },
     "execution_count": 11,
     "metadata": {},
     "output_type": "execute_result"
    }
   ],
   "source": [
    "query = \"What did the president say about Ketanji Brown Jackson\"\n",
    "index.query(query)"
   ]
  },
  {
   "cell_type": "code",
   "execution_count": 12,
   "id": "c6d02429-9d28-4bf5-99b6-5741b035b542",
   "metadata": {},
   "outputs": [
    {
     "data": {
      "text/plain": [
       "{'question': 'What did the president say about Ketanji Brown Jackson',\n",
       " 'answer': \" The president said that he nominated Circuit Court of Appeals Judge Ketanji Brown Jackson, one of the nation's top legal minds, who will continue Justice Breyer's legacy of excellence, and that she has received a broad range of support from the Fraternal Order of Police to former judges appointed by Democrats and Republicans.\\n\",\n",
       " 'sources': './state_of_the_union.txt'}"
      ]
     },
     "execution_count": 12,
     "metadata": {},
     "output_type": "execute_result"
    }
   ],
   "source": [
    "query = \"What did the president say about Ketanji Brown Jackson\"\n",
    "index.query_with_sources(query)"
   ]
  },
  {
   "cell_type": "code",
   "execution_count": 13,
   "id": "b40f0897-de0a-4508-898b-bdd3229f4b69",
   "metadata": {},
   "outputs": [
    {
     "data": {
      "text/plain": [
       "{'question': 'What did the president say about King Charles',\n",
       " 'answer': ' The president did not mention King Charles.\\n',\n",
       " 'sources': './state_of_the_union.txt'}"
      ]
     },
     "execution_count": 13,
     "metadata": {},
     "output_type": "execute_result"
    }
   ],
   "source": [
    "query = \"What did the president say about King Charles\"\n",
    "index.query_with_sources(query)"
   ]
  }
 ],
 "metadata": {
  "kernelspec": {
   "display_name": "Python 3 (ipykernel)",
   "language": "python",
   "name": "python3"
  },
  "language_info": {
   "codemirror_mode": {
    "name": "ipython",
    "version": 3
   },
   "file_extension": ".py",
   "mimetype": "text/x-python",
   "name": "python",
   "nbconvert_exporter": "python",
   "pygments_lexer": "ipython3",
   "version": "3.8.13"
  }
 },
 "nbformat": 4,
 "nbformat_minor": 5
}
